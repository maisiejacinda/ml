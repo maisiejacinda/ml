{
  "cells": [
    {
      "cell_type": "code",
      "execution_count": 2,
      "metadata": {
        "id": "HCutpsff5OCv"
      },
      "outputs": [],
      "source": [
        "import pandas as pd\n",
        "import matplotlib.pyplot as plt\n",
        "import seaborn as sns\n"
      ]
    },
    {
      "cell_type": "code",
      "execution_count": 3,
      "metadata": {
        "colab": {
          "base_uri": "https://localhost:8080/",
          "height": 73
        },
        "id": "gWL8I1TD5mhq",
        "outputId": "6ae90ad5-e2e8-4a93-cc54-c4901ba648e6"
      },
      "outputs": [
        {
          "output_type": "display_data",
          "data": {
            "text/plain": [
              "<IPython.core.display.HTML object>"
            ],
            "text/html": [
              "\n",
              "     <input type=\"file\" id=\"files-342f5001-7481-4760-a15b-f9c839de2ac6\" name=\"files[]\" multiple disabled\n",
              "        style=\"border:none\" />\n",
              "     <output id=\"result-342f5001-7481-4760-a15b-f9c839de2ac6\">\n",
              "      Upload widget is only available when the cell has been executed in the\n",
              "      current browser session. Please rerun this cell to enable.\n",
              "      </output>\n",
              "      <script>// Copyright 2017 Google LLC\n",
              "//\n",
              "// Licensed under the Apache License, Version 2.0 (the \"License\");\n",
              "// you may not use this file except in compliance with the License.\n",
              "// You may obtain a copy of the License at\n",
              "//\n",
              "//      http://www.apache.org/licenses/LICENSE-2.0\n",
              "//\n",
              "// Unless required by applicable law or agreed to in writing, software\n",
              "// distributed under the License is distributed on an \"AS IS\" BASIS,\n",
              "// WITHOUT WARRANTIES OR CONDITIONS OF ANY KIND, either express or implied.\n",
              "// See the License for the specific language governing permissions and\n",
              "// limitations under the License.\n",
              "\n",
              "/**\n",
              " * @fileoverview Helpers for google.colab Python module.\n",
              " */\n",
              "(function(scope) {\n",
              "function span(text, styleAttributes = {}) {\n",
              "  const element = document.createElement('span');\n",
              "  element.textContent = text;\n",
              "  for (const key of Object.keys(styleAttributes)) {\n",
              "    element.style[key] = styleAttributes[key];\n",
              "  }\n",
              "  return element;\n",
              "}\n",
              "\n",
              "// Max number of bytes which will be uploaded at a time.\n",
              "const MAX_PAYLOAD_SIZE = 100 * 1024;\n",
              "\n",
              "function _uploadFiles(inputId, outputId) {\n",
              "  const steps = uploadFilesStep(inputId, outputId);\n",
              "  const outputElement = document.getElementById(outputId);\n",
              "  // Cache steps on the outputElement to make it available for the next call\n",
              "  // to uploadFilesContinue from Python.\n",
              "  outputElement.steps = steps;\n",
              "\n",
              "  return _uploadFilesContinue(outputId);\n",
              "}\n",
              "\n",
              "// This is roughly an async generator (not supported in the browser yet),\n",
              "// where there are multiple asynchronous steps and the Python side is going\n",
              "// to poll for completion of each step.\n",
              "// This uses a Promise to block the python side on completion of each step,\n",
              "// then passes the result of the previous step as the input to the next step.\n",
              "function _uploadFilesContinue(outputId) {\n",
              "  const outputElement = document.getElementById(outputId);\n",
              "  const steps = outputElement.steps;\n",
              "\n",
              "  const next = steps.next(outputElement.lastPromiseValue);\n",
              "  return Promise.resolve(next.value.promise).then((value) => {\n",
              "    // Cache the last promise value to make it available to the next\n",
              "    // step of the generator.\n",
              "    outputElement.lastPromiseValue = value;\n",
              "    return next.value.response;\n",
              "  });\n",
              "}\n",
              "\n",
              "/**\n",
              " * Generator function which is called between each async step of the upload\n",
              " * process.\n",
              " * @param {string} inputId Element ID of the input file picker element.\n",
              " * @param {string} outputId Element ID of the output display.\n",
              " * @return {!Iterable<!Object>} Iterable of next steps.\n",
              " */\n",
              "function* uploadFilesStep(inputId, outputId) {\n",
              "  const inputElement = document.getElementById(inputId);\n",
              "  inputElement.disabled = false;\n",
              "\n",
              "  const outputElement = document.getElementById(outputId);\n",
              "  outputElement.innerHTML = '';\n",
              "\n",
              "  const pickedPromise = new Promise((resolve) => {\n",
              "    inputElement.addEventListener('change', (e) => {\n",
              "      resolve(e.target.files);\n",
              "    });\n",
              "  });\n",
              "\n",
              "  const cancel = document.createElement('button');\n",
              "  inputElement.parentElement.appendChild(cancel);\n",
              "  cancel.textContent = 'Cancel upload';\n",
              "  const cancelPromise = new Promise((resolve) => {\n",
              "    cancel.onclick = () => {\n",
              "      resolve(null);\n",
              "    };\n",
              "  });\n",
              "\n",
              "  // Wait for the user to pick the files.\n",
              "  const files = yield {\n",
              "    promise: Promise.race([pickedPromise, cancelPromise]),\n",
              "    response: {\n",
              "      action: 'starting',\n",
              "    }\n",
              "  };\n",
              "\n",
              "  cancel.remove();\n",
              "\n",
              "  // Disable the input element since further picks are not allowed.\n",
              "  inputElement.disabled = true;\n",
              "\n",
              "  if (!files) {\n",
              "    return {\n",
              "      response: {\n",
              "        action: 'complete',\n",
              "      }\n",
              "    };\n",
              "  }\n",
              "\n",
              "  for (const file of files) {\n",
              "    const li = document.createElement('li');\n",
              "    li.append(span(file.name, {fontWeight: 'bold'}));\n",
              "    li.append(span(\n",
              "        `(${file.type || 'n/a'}) - ${file.size} bytes, ` +\n",
              "        `last modified: ${\n",
              "            file.lastModifiedDate ? file.lastModifiedDate.toLocaleDateString() :\n",
              "                                    'n/a'} - `));\n",
              "    const percent = span('0% done');\n",
              "    li.appendChild(percent);\n",
              "\n",
              "    outputElement.appendChild(li);\n",
              "\n",
              "    const fileDataPromise = new Promise((resolve) => {\n",
              "      const reader = new FileReader();\n",
              "      reader.onload = (e) => {\n",
              "        resolve(e.target.result);\n",
              "      };\n",
              "      reader.readAsArrayBuffer(file);\n",
              "    });\n",
              "    // Wait for the data to be ready.\n",
              "    let fileData = yield {\n",
              "      promise: fileDataPromise,\n",
              "      response: {\n",
              "        action: 'continue',\n",
              "      }\n",
              "    };\n",
              "\n",
              "    // Use a chunked sending to avoid message size limits. See b/62115660.\n",
              "    let position = 0;\n",
              "    do {\n",
              "      const length = Math.min(fileData.byteLength - position, MAX_PAYLOAD_SIZE);\n",
              "      const chunk = new Uint8Array(fileData, position, length);\n",
              "      position += length;\n",
              "\n",
              "      const base64 = btoa(String.fromCharCode.apply(null, chunk));\n",
              "      yield {\n",
              "        response: {\n",
              "          action: 'append',\n",
              "          file: file.name,\n",
              "          data: base64,\n",
              "        },\n",
              "      };\n",
              "\n",
              "      let percentDone = fileData.byteLength === 0 ?\n",
              "          100 :\n",
              "          Math.round((position / fileData.byteLength) * 100);\n",
              "      percent.textContent = `${percentDone}% done`;\n",
              "\n",
              "    } while (position < fileData.byteLength);\n",
              "  }\n",
              "\n",
              "  // All done.\n",
              "  yield {\n",
              "    response: {\n",
              "      action: 'complete',\n",
              "    }\n",
              "  };\n",
              "}\n",
              "\n",
              "scope.google = scope.google || {};\n",
              "scope.google.colab = scope.google.colab || {};\n",
              "scope.google.colab._files = {\n",
              "  _uploadFiles,\n",
              "  _uploadFilesContinue,\n",
              "};\n",
              "})(self);\n",
              "</script> "
            ]
          },
          "metadata": {}
        },
        {
          "output_type": "stream",
          "name": "stdout",
          "text": [
            "Saving hoax_dataset_with_text.csv to hoax_dataset_with_text.csv\n"
          ]
        }
      ],
      "source": [
        "from google.colab import files\n",
        "uploaded = files.upload()\n"
      ]
    },
    {
      "cell_type": "code",
      "execution_count": 4,
      "metadata": {
        "id": "Y2zILaFQ51Uu"
      },
      "outputs": [],
      "source": [
        "df = pd.read_csv(\"hoax_dataset_with_text.csv\")"
      ]
    },
    {
      "cell_type": "code",
      "execution_count": 5,
      "metadata": {
        "colab": {
          "base_uri": "https://localhost:8080/",
          "height": 678
        },
        "id": "6-bvT6LY52uN",
        "outputId": "fba0b26c-06d2-4036-d784-40ba580c756a"
      },
      "outputs": [
        {
          "output_type": "execute_result",
          "data": {
            "text/plain": [
              "                                               judul  \\\n",
              "0  [SALAH] Salam 3 Jari dari Anies Bentuk Dukunga...   \n",
              "1  [SALAH] Prabowo Ancam Penghujat Pemimpin akan ...   \n",
              "2  [SALAH] Menkes Budi Sebut Lockdown Pandemi Sel...   \n",
              "3  [SALAH] Prabowo Bilang “Setujukah Rakyat kalau...   \n",
              "4  [SALAH] Cagub Jakarta Pramono Anung dan Ketua ...   \n",
              "\n",
              "                                                link           tanggal  \\\n",
              "0  https://turnbackhoax.id/2024/10/30/salah-salam...  Oktober 30, 2024   \n",
              "1  https://turnbackhoax.id/2024/10/30/salah-prabo...  Oktober 30, 2024   \n",
              "2  https://turnbackhoax.id/2024/10/30/salah-menke...  Oktober 30, 2024   \n",
              "3  https://turnbackhoax.id/2024/10/30/salah-prabo...  Oktober 30, 2024   \n",
              "4  https://turnbackhoax.id/2024/10/30/salah-cagub...  Oktober 30, 2024   \n",
              "\n",
              "                                           deskripsi  \\\n",
              "0  Faktanya, belum ada dukungan resmi Anies untuk...   \n",
              "1  Tidak ada sumber valid yang membenarkan Presid...   \n",
              "2  Tidak ada pernyataan Menkes Budi tentang lockd...   \n",
              "3  Hasil pencarian di Google mengarah ke pemberit...   \n",
              "4  KPK menjelaskan belum ada bukti yang kuat meng...   \n",
              "\n",
              "                                                teks  \n",
              "0                             Terjadi kesalahan: 502  \n",
              "1  Tidak ada sumber valid yang membenarkan Presid...  \n",
              "2  Tidak ada pernyataan Menkes Budi tentang lockd...  \n",
              "3  Hasil pencarian di Google mengarah ke pemberit...  \n",
              "4  KPK menjelaskan belum ada bukti yang kuat meng...  "
            ],
            "text/html": [
              "\n",
              "  <div id=\"df-7fc9c944-8d56-4eaf-aa8d-5e4f097e7157\" class=\"colab-df-container\">\n",
              "    <div>\n",
              "<style scoped>\n",
              "    .dataframe tbody tr th:only-of-type {\n",
              "        vertical-align: middle;\n",
              "    }\n",
              "\n",
              "    .dataframe tbody tr th {\n",
              "        vertical-align: top;\n",
              "    }\n",
              "\n",
              "    .dataframe thead th {\n",
              "        text-align: right;\n",
              "    }\n",
              "</style>\n",
              "<table border=\"1\" class=\"dataframe\">\n",
              "  <thead>\n",
              "    <tr style=\"text-align: right;\">\n",
              "      <th></th>\n",
              "      <th>judul</th>\n",
              "      <th>link</th>\n",
              "      <th>tanggal</th>\n",
              "      <th>deskripsi</th>\n",
              "      <th>teks</th>\n",
              "    </tr>\n",
              "  </thead>\n",
              "  <tbody>\n",
              "    <tr>\n",
              "      <th>0</th>\n",
              "      <td>[SALAH] Salam 3 Jari dari Anies Bentuk Dukunga...</td>\n",
              "      <td>https://turnbackhoax.id/2024/10/30/salah-salam...</td>\n",
              "      <td>Oktober 30, 2024</td>\n",
              "      <td>Faktanya, belum ada dukungan resmi Anies untuk...</td>\n",
              "      <td>Terjadi kesalahan: 502</td>\n",
              "    </tr>\n",
              "    <tr>\n",
              "      <th>1</th>\n",
              "      <td>[SALAH] Prabowo Ancam Penghujat Pemimpin akan ...</td>\n",
              "      <td>https://turnbackhoax.id/2024/10/30/salah-prabo...</td>\n",
              "      <td>Oktober 30, 2024</td>\n",
              "      <td>Tidak ada sumber valid yang membenarkan Presid...</td>\n",
              "      <td>Tidak ada sumber valid yang membenarkan Presid...</td>\n",
              "    </tr>\n",
              "    <tr>\n",
              "      <th>2</th>\n",
              "      <td>[SALAH] Menkes Budi Sebut Lockdown Pandemi Sel...</td>\n",
              "      <td>https://turnbackhoax.id/2024/10/30/salah-menke...</td>\n",
              "      <td>Oktober 30, 2024</td>\n",
              "      <td>Tidak ada pernyataan Menkes Budi tentang lockd...</td>\n",
              "      <td>Tidak ada pernyataan Menkes Budi tentang lockd...</td>\n",
              "    </tr>\n",
              "    <tr>\n",
              "      <th>3</th>\n",
              "      <td>[SALAH] Prabowo Bilang “Setujukah Rakyat kalau...</td>\n",
              "      <td>https://turnbackhoax.id/2024/10/30/salah-prabo...</td>\n",
              "      <td>Oktober 30, 2024</td>\n",
              "      <td>Hasil pencarian di Google mengarah ke pemberit...</td>\n",
              "      <td>Hasil pencarian di Google mengarah ke pemberit...</td>\n",
              "    </tr>\n",
              "    <tr>\n",
              "      <th>4</th>\n",
              "      <td>[SALAH] Cagub Jakarta Pramono Anung dan Ketua ...</td>\n",
              "      <td>https://turnbackhoax.id/2024/10/30/salah-cagub...</td>\n",
              "      <td>Oktober 30, 2024</td>\n",
              "      <td>KPK menjelaskan belum ada bukti yang kuat meng...</td>\n",
              "      <td>KPK menjelaskan belum ada bukti yang kuat meng...</td>\n",
              "    </tr>\n",
              "  </tbody>\n",
              "</table>\n",
              "</div>\n",
              "    <div class=\"colab-df-buttons\">\n",
              "\n",
              "  <div class=\"colab-df-container\">\n",
              "    <button class=\"colab-df-convert\" onclick=\"convertToInteractive('df-7fc9c944-8d56-4eaf-aa8d-5e4f097e7157')\"\n",
              "            title=\"Convert this dataframe to an interactive table.\"\n",
              "            style=\"display:none;\">\n",
              "\n",
              "  <svg xmlns=\"http://www.w3.org/2000/svg\" height=\"24px\" viewBox=\"0 -960 960 960\">\n",
              "    <path d=\"M120-120v-720h720v720H120Zm60-500h600v-160H180v160Zm220 220h160v-160H400v160Zm0 220h160v-160H400v160ZM180-400h160v-160H180v160Zm440 0h160v-160H620v160ZM180-180h160v-160H180v160Zm440 0h160v-160H620v160Z\"/>\n",
              "  </svg>\n",
              "    </button>\n",
              "\n",
              "  <style>\n",
              "    .colab-df-container {\n",
              "      display:flex;\n",
              "      gap: 12px;\n",
              "    }\n",
              "\n",
              "    .colab-df-convert {\n",
              "      background-color: #E8F0FE;\n",
              "      border: none;\n",
              "      border-radius: 50%;\n",
              "      cursor: pointer;\n",
              "      display: none;\n",
              "      fill: #1967D2;\n",
              "      height: 32px;\n",
              "      padding: 0 0 0 0;\n",
              "      width: 32px;\n",
              "    }\n",
              "\n",
              "    .colab-df-convert:hover {\n",
              "      background-color: #E2EBFA;\n",
              "      box-shadow: 0px 1px 2px rgba(60, 64, 67, 0.3), 0px 1px 3px 1px rgba(60, 64, 67, 0.15);\n",
              "      fill: #174EA6;\n",
              "    }\n",
              "\n",
              "    .colab-df-buttons div {\n",
              "      margin-bottom: 4px;\n",
              "    }\n",
              "\n",
              "    [theme=dark] .colab-df-convert {\n",
              "      background-color: #3B4455;\n",
              "      fill: #D2E3FC;\n",
              "    }\n",
              "\n",
              "    [theme=dark] .colab-df-convert:hover {\n",
              "      background-color: #434B5C;\n",
              "      box-shadow: 0px 1px 3px 1px rgba(0, 0, 0, 0.15);\n",
              "      filter: drop-shadow(0px 1px 2px rgba(0, 0, 0, 0.3));\n",
              "      fill: #FFFFFF;\n",
              "    }\n",
              "  </style>\n",
              "\n",
              "    <script>\n",
              "      const buttonEl =\n",
              "        document.querySelector('#df-7fc9c944-8d56-4eaf-aa8d-5e4f097e7157 button.colab-df-convert');\n",
              "      buttonEl.style.display =\n",
              "        google.colab.kernel.accessAllowed ? 'block' : 'none';\n",
              "\n",
              "      async function convertToInteractive(key) {\n",
              "        const element = document.querySelector('#df-7fc9c944-8d56-4eaf-aa8d-5e4f097e7157');\n",
              "        const dataTable =\n",
              "          await google.colab.kernel.invokeFunction('convertToInteractive',\n",
              "                                                    [key], {});\n",
              "        if (!dataTable) return;\n",
              "\n",
              "        const docLinkHtml = 'Like what you see? Visit the ' +\n",
              "          '<a target=\"_blank\" href=https://colab.research.google.com/notebooks/data_table.ipynb>data table notebook</a>'\n",
              "          + ' to learn more about interactive tables.';\n",
              "        element.innerHTML = '';\n",
              "        dataTable['output_type'] = 'display_data';\n",
              "        await google.colab.output.renderOutput(dataTable, element);\n",
              "        const docLink = document.createElement('div');\n",
              "        docLink.innerHTML = docLinkHtml;\n",
              "        element.appendChild(docLink);\n",
              "      }\n",
              "    </script>\n",
              "  </div>\n",
              "\n",
              "\n",
              "    <div id=\"df-14891ceb-7e22-4ec7-9a4d-81f4ce6694a2\">\n",
              "      <button class=\"colab-df-quickchart\" onclick=\"quickchart('df-14891ceb-7e22-4ec7-9a4d-81f4ce6694a2')\"\n",
              "                title=\"Suggest charts\"\n",
              "                style=\"display:none;\">\n",
              "\n",
              "<svg xmlns=\"http://www.w3.org/2000/svg\" height=\"24px\"viewBox=\"0 0 24 24\"\n",
              "     width=\"24px\">\n",
              "    <g>\n",
              "        <path d=\"M19 3H5c-1.1 0-2 .9-2 2v14c0 1.1.9 2 2 2h14c1.1 0 2-.9 2-2V5c0-1.1-.9-2-2-2zM9 17H7v-7h2v7zm4 0h-2V7h2v10zm4 0h-2v-4h2v4z\"/>\n",
              "    </g>\n",
              "</svg>\n",
              "      </button>\n",
              "\n",
              "<style>\n",
              "  .colab-df-quickchart {\n",
              "      --bg-color: #E8F0FE;\n",
              "      --fill-color: #1967D2;\n",
              "      --hover-bg-color: #E2EBFA;\n",
              "      --hover-fill-color: #174EA6;\n",
              "      --disabled-fill-color: #AAA;\n",
              "      --disabled-bg-color: #DDD;\n",
              "  }\n",
              "\n",
              "  [theme=dark] .colab-df-quickchart {\n",
              "      --bg-color: #3B4455;\n",
              "      --fill-color: #D2E3FC;\n",
              "      --hover-bg-color: #434B5C;\n",
              "      --hover-fill-color: #FFFFFF;\n",
              "      --disabled-bg-color: #3B4455;\n",
              "      --disabled-fill-color: #666;\n",
              "  }\n",
              "\n",
              "  .colab-df-quickchart {\n",
              "    background-color: var(--bg-color);\n",
              "    border: none;\n",
              "    border-radius: 50%;\n",
              "    cursor: pointer;\n",
              "    display: none;\n",
              "    fill: var(--fill-color);\n",
              "    height: 32px;\n",
              "    padding: 0;\n",
              "    width: 32px;\n",
              "  }\n",
              "\n",
              "  .colab-df-quickchart:hover {\n",
              "    background-color: var(--hover-bg-color);\n",
              "    box-shadow: 0 1px 2px rgba(60, 64, 67, 0.3), 0 1px 3px 1px rgba(60, 64, 67, 0.15);\n",
              "    fill: var(--button-hover-fill-color);\n",
              "  }\n",
              "\n",
              "  .colab-df-quickchart-complete:disabled,\n",
              "  .colab-df-quickchart-complete:disabled:hover {\n",
              "    background-color: var(--disabled-bg-color);\n",
              "    fill: var(--disabled-fill-color);\n",
              "    box-shadow: none;\n",
              "  }\n",
              "\n",
              "  .colab-df-spinner {\n",
              "    border: 2px solid var(--fill-color);\n",
              "    border-color: transparent;\n",
              "    border-bottom-color: var(--fill-color);\n",
              "    animation:\n",
              "      spin 1s steps(1) infinite;\n",
              "  }\n",
              "\n",
              "  @keyframes spin {\n",
              "    0% {\n",
              "      border-color: transparent;\n",
              "      border-bottom-color: var(--fill-color);\n",
              "      border-left-color: var(--fill-color);\n",
              "    }\n",
              "    20% {\n",
              "      border-color: transparent;\n",
              "      border-left-color: var(--fill-color);\n",
              "      border-top-color: var(--fill-color);\n",
              "    }\n",
              "    30% {\n",
              "      border-color: transparent;\n",
              "      border-left-color: var(--fill-color);\n",
              "      border-top-color: var(--fill-color);\n",
              "      border-right-color: var(--fill-color);\n",
              "    }\n",
              "    40% {\n",
              "      border-color: transparent;\n",
              "      border-right-color: var(--fill-color);\n",
              "      border-top-color: var(--fill-color);\n",
              "    }\n",
              "    60% {\n",
              "      border-color: transparent;\n",
              "      border-right-color: var(--fill-color);\n",
              "    }\n",
              "    80% {\n",
              "      border-color: transparent;\n",
              "      border-right-color: var(--fill-color);\n",
              "      border-bottom-color: var(--fill-color);\n",
              "    }\n",
              "    90% {\n",
              "      border-color: transparent;\n",
              "      border-bottom-color: var(--fill-color);\n",
              "    }\n",
              "  }\n",
              "</style>\n",
              "\n",
              "      <script>\n",
              "        async function quickchart(key) {\n",
              "          const quickchartButtonEl =\n",
              "            document.querySelector('#' + key + ' button');\n",
              "          quickchartButtonEl.disabled = true;  // To prevent multiple clicks.\n",
              "          quickchartButtonEl.classList.add('colab-df-spinner');\n",
              "          try {\n",
              "            const charts = await google.colab.kernel.invokeFunction(\n",
              "                'suggestCharts', [key], {});\n",
              "          } catch (error) {\n",
              "            console.error('Error during call to suggestCharts:', error);\n",
              "          }\n",
              "          quickchartButtonEl.classList.remove('colab-df-spinner');\n",
              "          quickchartButtonEl.classList.add('colab-df-quickchart-complete');\n",
              "        }\n",
              "        (() => {\n",
              "          let quickchartButtonEl =\n",
              "            document.querySelector('#df-14891ceb-7e22-4ec7-9a4d-81f4ce6694a2 button');\n",
              "          quickchartButtonEl.style.display =\n",
              "            google.colab.kernel.accessAllowed ? 'block' : 'none';\n",
              "        })();\n",
              "      </script>\n",
              "    </div>\n",
              "\n",
              "    </div>\n",
              "  </div>\n"
            ],
            "application/vnd.google.colaboratory.intrinsic+json": {
              "type": "dataframe",
              "variable_name": "df",
              "summary": "{\n  \"name\": \"df\",\n  \"rows\": 500,\n  \"fields\": [\n    {\n      \"column\": \"judul\",\n      \"properties\": {\n        \"dtype\": \"string\",\n        \"num_unique_values\": 500,\n        \"samples\": [\n          \"[PENIPUAN] Hadiah Rp 700.000 bagi Pengguna BRImo dari BRI\",\n          \"[PENIPUAN] Ivan Gunawan Bagi-Bagi Rp20 untuk Modal Usaha dan Bayar Utang\",\n          \"[SALAH] Luhut Binsar Panjaitan Memarahi Najwa Shihab Terkait Postingan \\u201cPeringatan Darurat\\u201d\"\n        ],\n        \"semantic_type\": \"\",\n        \"description\": \"\"\n      }\n    },\n    {\n      \"column\": \"link\",\n      \"properties\": {\n        \"dtype\": \"string\",\n        \"num_unique_values\": 500,\n        \"samples\": [\n          \"https://turnbackhoax.id/2024/09/24/penipuan-hadiah-rp-700-000-bagi-pengguna-brimo-dari-bri/\",\n          \"https://turnbackhoax.id/2024/10/21/penipuan-ivan-gunawan-bagi-bagi-rp20-untuk-modal-usaha-dan-bayar-utang/\",\n          \"https://turnbackhoax.id/2024/09/24/salah-luhut-binsar-panjaitan-memarahi-najwa-shihab-terkait-postingan-peringatan-darurat/\"\n        ],\n        \"semantic_type\": \"\",\n        \"description\": \"\"\n      }\n    },\n    {\n      \"column\": \"tanggal\",\n      \"properties\": {\n        \"dtype\": \"category\",\n        \"num_unique_values\": 43,\n        \"samples\": [\n          \"September 21, 2024\",\n          \"Oktober 4, 2024\",\n          \"Oktober 3, 2024\"\n        ],\n        \"semantic_type\": \"\",\n        \"description\": \"\"\n      }\n    },\n    {\n      \"column\": \"deskripsi\",\n      \"properties\": {\n        \"dtype\": \"string\",\n        \"num_unique_values\": 493,\n        \"samples\": [\n          \"Periksa Fakta Vania.\\u00a0Faktanya, tidak ditemukan judul dan cover dari majalah Tempo terbaru. Cover foto Gibran merupakan cover majalah Tempo pada tahun 2023 dengan judul \\u201cGerilya[\\u2026]\",\n          \"Tidak berkaitan dengan Hizbullah, faktanya pose atau gestur simbol tangan oleh Shaq adalah untuk mendukung gerakan \\u201cTimeout\\u201d oleh Robert Kraft melawan gerakan kebencian pada Oktober 2024.\",\n          \"Hasil MANIPULASI, BUKAN bertuliskan \\u201ccucu PKI\\u201d. FAKTA: tulisan di foto ASLINYA adalah \\u201cPutra Mulyono\\u201d. Selengkapnya di bagian PENJELASAN dan REFERENSI. KATEGORI: Konten yang Dimanipulasi. SUMBER:[\\u2026]\"\n        ],\n        \"semantic_type\": \"\",\n        \"description\": \"\"\n      }\n    },\n    {\n      \"column\": \"teks\",\n      \"properties\": {\n        \"dtype\": \"string\",\n        \"num_unique_values\": 500,\n        \"samples\": [\n          \"Hasil periksa fakta Raymondha ElshaNarasi mengenai BRI membagikan Rp 700.000 bagi pengguna BRImo adalah tidak benar. Tautan dalam unggahan tersebut tidak mengarah ke situs resmi BRI.===========[KATEGORI]: Konten tiruan===========[SUMBER]: Facebookhttps://turnbackhoax.id/wp-content/uploads/2024/09/Brimo.png(arsip)===========[NARASI]:*Khusus Nasabah BankBRI yang Sudah Mempunyai BRImo. Ayo buruan Daftar Dapatkan uang tunai Rp.700.000 bagi setiap pengguna BRImo dan Menangkan undian BRI Festival agar kamu berkesempatan menjadi Pemenang.*Menangkan hadiah menarik lainnya berikut ini:\\ud835\\uddda\\ud835\\uddff\\ud835\\uddee\\ud835\\uddfb\\ud835\\uddf1 \\ud835\\udde3\\ud835\\uddff\\ud835\\uddf6\\ud835\\ude07\\ud835\\uddf2 :\\u00b0 30 Unit Mobil HRV\\ud835\\udddb\\ud835\\uddee\\ud835\\uddf1\\ud835\\uddf6\\ud835\\uddee\\ud835\\uddf5 \\ud835\\udddf\\ud835\\uddee\\ud835\\uddf6\\ud835\\uddfb\\ud835\\uddfb\\ud835\\ude06\\ud835\\uddee :\\u00b0 20 Unit Mobil Fortuner GR\\u00b0 50 unit honda brio\\u00b0 200 motor beat street 2024\\u00b0 250 IPhone 15 Pro Max\\u00b0 70 Kulkas LGSaksikan penarikan undian nya padatanggal 25 September 2024Biaya tagihan gratis di tanggung oleh Bank BRI.===========[PENJELASAN]:Beredar unggahan di media sosial Facebook yang mengeklaim Bank Rakyat Indonesia (BRI) memberikan uang Rp700.000 bagi pengguna BRI Mobile (BRImo) pada September 2024. Selain itu, dalam unggahan juga terdapat tawaran undian dengan hadiah seperti mobil maupun motor.Setelah dilakukan penelusuran dengan mengklik tautan pada postingan tersebut, ternyata bukan merupakan link resmi yang mengarahkan pada web resmi BRI. Dilansir dari Kompas, Corporate Secretary BRI Agustya Hendy Bernadi memastikan informasi tersebut adalah hoaks. BRI tidak pernah menjanjikan hadiah Rp 700.000 bagi pengguna BRImo.Berdasarkan dari temuan tersebut maka dapat disimpulkan jika unggahan yang mengklaim BRI membagikan Rp 700.000 bagi pengguna BRImo merupakan salah satu modus untuk melakukan penipuan online.===========[REFERENSI] :https://www.kompas.com/cekfakta/read/2024/09/18/131800982/-hoaks-hadiah-rp-700.000-bagi-pengguna-brimo-dari-brihttps://turnbackhoax.id/2024/07/29/penipuan-gebyar-panen-hadiah-bagi-nasabah-bank-bri/https://turnbackhoax.id/2024/05/14/salah-gebyar-promo-hadiah-bank-bri/\",\n          \"Video yang beredar merupakan konten buatan AI.Unggahan video dan narasi \\u201cIvan Gunawan bagikan 20 juta untuk modal usaha dan bayar utang\\u201d adalah konten palsu (fabricated content).Beredarvideo reels[arsip] dari akun Instagram \\u201cberbagiuang2023\\u201d yang menampilkan Ivan Gunawan ingin membagikan uang Rp20 juta. Berikut narasi lengkapnya:\\u201cLangsung Saja Yang Ingin Dibantu Hubungi Nomor WhatsApp Kami \\ud83d\\ude07\\u00a0 \\ud83d\\udce00852-7340-9893\\u201d\\u201csemoga bermanfaat buat keluarga kamu. semoga berkah\\u201d\\u201csaya berjanji bagi yang lihat video ini akan saya bantu untuk kamu akan saya transfer 20.000.000 ya. Ini untuk modal usaha atau bayar hutang. Ingat jangan untuk foya-foya ya. Syaratnya sangat mudah sekali cukup tekan love dan tanda panah akan saya bantu kirim. Ini real amanah, semoga bisa bantu ekonomi keluarga kamu.bagi yang menemukan video tersebut untuk modal usaha dan bayar hutang.Dalam takarir terdapat narasi yang menginformasikan warganet agar menghubungi nomor WhatsApp (WA) untuk mendapatkan bantuan.Sejak diunggah Rabu (9/10/2024) hingga Senin (21/10/2024), konten tersebut telah disukai lebih dari 8.700 ribu akun, ditayangkan 427 ribu kali, dan dibanjiri 3.300-an komentar. Tak sedikit komentar yang mempercayai video ini.Pemeriksaan FaktaTim Pemeriksa fakta Mafindo (TurnBackHoax) semula mengunduh video tersebut kemudian mengunggahnya ke laman pendeteksi AIHive Moderation.Hasilnya, kemungkinan konten itu dibuat oleh kecerdasan buatan (artificial intelligence/AI) mencapai 98,4%.Dari penelusuran di akunInstagramasli dari Ivan Gunawan juga tidak ditemukan adanya informasi mengenai pemberian bantuan Rp20 juta untuk modal usaha atau pembayaran utang itu.Nama Ivan Gunawan sering dicatut untuk konten dari modus penipuan. Sebelumnya, TurnBackHoax juga telah meluruskan klaim serupa lewat artikel \\u201c[PENIPUAN] Ivan Gunawan Giveaway 50 Juta Khusus Follower yang Berusia 40 Tahun\\u201d.KesimpulanUnggahan video dan narasi \\u201cIvan Gunawan bagikan 20 juta untuk modal usaha atau bayar utang\\u201d adalah konten palsu (fabricated content).(Ditulis oleh Moch. Marcellodiansyah)12\",\n          \"Hasil periksa fakta PanjiFaktanya video wawancara tersebut tidak ada hubungannya dengan demo UU Pilkada 2024 ini. Video itu merupakan wawancara Luhut Binsar Pandjaitan dengan Najwa Shihab di tahun 2020 yang membahas mengenai penanganan pandemi COVID-19 oleh pemerintah dan juga pelaksanaan Pilkada 2020 di tengah pandemi.===========[KATEGORI]: Konteks yang salah===========[SUMBER]: Youtubehttps://ghostarchive.org/varchive/-K-530F2llo(arsip)===========[NARASI]:rasain najwa dimarahin opung luhut===========[PENJELASAN]:Beredar sebuah video di Youtube yang memperlihatkan wawancara Najwa Shihab bersama Luhut Binsar Panjaitan, pada video ini terlihat bahwa Luhut sedang mengkritisi Najwa karena menentang rencana perubahan Undang-undang Pemilihan Kepala Daerah oleh DPR.Dalam wawancara tersebut, Luhut mengatakan, \\u201cKau sebagai warga negara renungkan setiap tindakanmu dalam situasi krisis macam ini. Jangan kamu sok paling pahlawan sendiri sok paling bersih, ya. Jangan. Keadaan ini sekarang bicara soal nyawa manusia, bicara masalah kemanusiaan\\u201d.Saat dilakukan pencarian dengan bantuan sistem pencarian gambar, Yandex, ditemukan hasil jika video tersebut memiliki kemiripan dengan video yang diunggah channel Youtube Najwa Shihab yang berjudul \\u201cLuhut: Banyak Orang Kumpul-Kumpul karena Birahi Kekuasaan (Part 2) | Mata Najwa\\u201d pada tahun 24 September 2020 lalu.Faktanya video ini merupakan wawancara yang dilakukan Najwa Shihab kepada Luhut pada saat Indonesia berupaya menggelar Pilkada selama pandemi Covid-19. Lalu momen ketika wawancara Najwa Shihab dengan Luhut Binsar Pandjaitan mulai memanas dapat dilihat mulai menit 9:28.Komentar Luhut tentang warga negara yang perlu merenungkan tindakan mereka selama krisis tidak ditujukan pada Najwa karena mendukung protes pada Agustus 2024 kemarin, melainkan tentang bagaimana semua orang harus bersikap menjelang Pilkada 2020 yang terjadi di tengah pandemi.===========[REFERENSI] :https://www.youtube.com/watch?v=L3FFu-9145s&t=574s[SALAH] Video Luhut Marah kepada Najwa karena Mendukung Demo UU Pilkada 2024\"\n        ],\n        \"semantic_type\": \"\",\n        \"description\": \"\"\n      }\n    }\n  ]\n}"
            }
          },
          "metadata": {},
          "execution_count": 5
        }
      ],
      "source": [
        "df.head()"
      ]
    },
    {
      "cell_type": "code",
      "execution_count": 6,
      "metadata": {
        "colab": {
          "base_uri": "https://localhost:8080/"
        },
        "id": "4Qu1E4dZ7JeS",
        "outputId": "dc122003-79f6-4789-89dc-9d7dac10a554"
      },
      "outputs": [
        {
          "output_type": "stream",
          "name": "stdout",
          "text": [
            "Index(['judul', 'link', 'tanggal', 'deskripsi', 'teks'], dtype='object')\n"
          ]
        }
      ],
      "source": [
        "print(df.columns)\n"
      ]
    },
    {
      "cell_type": "code",
      "execution_count": 7,
      "metadata": {
        "id": "n9aUq9bg7Zvy"
      },
      "outputs": [],
      "source": [
        "def extract_label(judul):\n",
        "    if judul.startswith(\"[SALAH]\"):\n",
        "        return \"hoax\"\n",
        "    else:\n",
        "        return \"valid\"\n",
        "\n",
        "df['label'] = df['judul'].apply(extract_label)\n"
      ]
    },
    {
      "cell_type": "code",
      "execution_count": 8,
      "metadata": {
        "colab": {
          "base_uri": "https://localhost:8080/",
          "height": 472
        },
        "id": "8no_lxQx7cQ1",
        "outputId": "36d5e5b5-262f-4b7a-be20-4f8280beb3c2"
      },
      "outputs": [
        {
          "output_type": "display_data",
          "data": {
            "text/plain": [
              "<Figure size 640x480 with 1 Axes>"
            ],
            "image/png": "[encoded data removed]"
          },
          "metadata": {}
        }
      ],
      "source": [
        "import seaborn as sns\n",
        "import matplotlib.pyplot as plt\n",
        "\n",
        "sns.countplot(data=df, x='label')\n",
        "plt.title(\"Distribusi Label Hoaks vs Valid\")\n",
        "plt.show()\n"
      ]
    },
    {
      "cell_type": "code",
      "execution_count": 9,
      "metadata": {
        "colab": {
          "base_uri": "https://localhost:8080/"
        },
        "id": "ATIqhGLK8KqW",
        "outputId": "40f32448-2c38-410e-b498-6f7a711c4ccf"
      },
      "outputs": [
        {
          "output_type": "stream",
          "name": "stdout",
          "text": [
            "<class 'pandas.core.frame.DataFrame'>\n",
            "RangeIndex: 500 entries, 0 to 499\n",
            "Data columns (total 6 columns):\n",
            " #   Column     Non-Null Count  Dtype \n",
            "---  ------     --------------  ----- \n",
            " 0   judul      500 non-null    object\n",
            " 1   link       500 non-null    object\n",
            " 2   tanggal    500 non-null    object\n",
            " 3   deskripsi  500 non-null    object\n",
            " 4   teks       500 non-null    object\n",
            " 5   label      500 non-null    object\n",
            "dtypes: object(6)\n",
            "memory usage: 23.6+ KB\n"
          ]
        }
      ],
      "source": [
        "df.info()\n"
      ]
    },
    {
      "cell_type": "code",
      "execution_count": 10,
      "metadata": {
        "colab": {
          "base_uri": "https://localhost:8080/"
        },
        "id": "IAUaycqq9J6W",
        "outputId": "21a816ee-d2e9-4f01-cd1f-5e8a82c5e16f"
      },
      "outputs": [
        {
          "output_type": "stream",
          "name": "stdout",
          "text": [
            "Index(['judul', 'link', 'tanggal', 'deskripsi', 'teks', 'label'], dtype='object')\n"
          ]
        }
      ],
      "source": [
        "print(df.columns)\n"
      ]
    },
    {
      "cell_type": "markdown",
      "metadata": {
        "id": "6OIoF6TJ_vFt"
      },
      "source": [
        "STEP TOKENISASI IndoBERT + PROCESSING"
      ]
    },
    {
      "cell_type": "code",
      "execution_count": 11,
      "metadata": {
        "id": "Fyk5C5dA9t2-"
      },
      "outputs": [],
      "source": [
        "from transformers import BertTokenizer\n",
        "\n",
        "tokenizer = BertTokenizer.from_pretrained('indobenchmark/indobert-base-p1')"
      ]
    },
    {
      "cell_type": "code",
      "execution_count": 12,
      "metadata": {
        "id": "l9CWnRTy9O4W"
      },
      "outputs": [],
      "source": [
        "df['teks'] = df['teks'].astype(str)\n",
        "\n",
        "tokenized = tokenizer(\n",
        "    list(df['teks']),\n",
        "    padding='max_length',\n",
        "    truncation=True,\n",
        "    max_length=128,\n",
        "    return_tensors='pt'\n",
        ")\n"
      ]
    },
    {
      "cell_type": "code",
      "execution_count": 13,
      "metadata": {
        "id": "29fuAcdq9xky"
      },
      "outputs": [],
      "source": [
        "df['teks'] = df['teks'].astype(str)"
      ]
    },
    {
      "cell_type": "code",
      "execution_count": 14,
      "metadata": {
        "id": "Hqx3HNc191S-"
      },
      "outputs": [],
      "source": [
        "tokenized = tokenizer(\n",
        "    list(df['teks']),\n",
        "    padding='max_length',\n",
        "    truncation=True,\n",
        "    max_length=128,\n",
        "    return_tensors='pt'\n",
        ")"
      ]
    },
    {
      "cell_type": "markdown",
      "metadata": {
        "id": "SrohfcT__g-R"
      },
      "source": [
        "STEP LABEL ENCODING + TRAIN-TEST SPLIT"
      ]
    },
    {
      "cell_type": "code",
      "execution_count": 15,
      "metadata": {
        "id": "-92KfW2u95-t"
      },
      "outputs": [],
      "source": [
        "from sklearn.model_selection import train_test_split\n",
        "import torch"
      ]
    },
    {
      "cell_type": "code",
      "execution_count": 16,
      "metadata": {
        "id": "38eTZpVV_BB5"
      },
      "outputs": [],
      "source": [
        "df['label'] = df['label'].map({'hoax': 1, 'valid': 0})"
      ]
    },
    {
      "cell_type": "code",
      "execution_count": 17,
      "metadata": {
        "id": "FIu_hB_V_MDt"
      },
      "outputs": [],
      "source": [
        "input_ids = tokenized['input_ids']\n",
        "attention_mask = tokenized['attention_mask']\n",
        "labels = torch.tensor(df['label'].values)"
      ]
    },
    {
      "cell_type": "code",
      "execution_count": 18,
      "metadata": {
        "id": "KXakSERG_85V"
      },
      "outputs": [],
      "source": [
        "X_train_ids, X_test_ids, X_train_mask, X_test_mask, y_train, y_test = train_test_split(\n",
        "    input_ids,\n",
        "    attention_mask,\n",
        "    labels,\n",
        "    test_size=0.2,\n",
        "    stratify=labels,\n",
        "    random_state=42\n",
        ")"
      ]
    },
    {
      "cell_type": "markdown",
      "metadata": {
        "id": "CjzQCV5cAJxq"
      },
      "source": [
        "penjelasan\n",
        "\n",
        "input_ids = hasil konversi kata ke token angka dari IndoBERT.\n",
        "\n",
        "attention_mask = penanda token mana yang valid dan mana yang padding (0).\n",
        "\n",
        "y_train dan y_test = label target untuk training dan evaluasi."
      ]
    },
    {
      "cell_type": "markdown",
      "metadata": {
        "id": "8zFRRN1QDwWu"
      },
      "source": [
        "**STEP DEFINISI MODEL IndoBERT + CNN-LSTM**"
      ]
    },
    {
      "cell_type": "code",
      "execution_count": 19,
      "metadata": {
        "id": "lOI83sJzA28e"
      },
      "outputs": [],
      "source": [
        "import torch\n",
        "import torch.nn as nn\n",
        "from transformers import BertModel"
      ]
    },
    {
      "cell_type": "code",
      "execution_count": 20,
      "metadata": {
        "id": "4XtkSVQaEZvO"
      },
      "outputs": [],
      "source": [
        "class IndoBERT_CNN_LSTM(nn.Module):\n",
        "    def __init__(self):\n",
        "        super().__init__()\n",
        "        self.bert = BertModel.from_pretrained('indobenchmark/indobert-base-p1')\n",
        "        self.conv1 = nn.Conv1d(in_channels=768, out_channels=128, kernel_size=3, padding=1)\n",
        "        self.lstm = nn.LSTM(input_size=128, hidden_size=64, batch_first=True)\n",
        "        self.fc = nn.Linear(64, 2)\n",
        "\n",
        "    def forward(self, input_ids, attention_mask):\n",
        "        with torch.no_grad():\n",
        "            outputs = self.bert(input_ids=input_ids, attention_mask=attention_mask)\n",
        "        x = outputs.last_hidden_state\n",
        "        x = x.permute(0, 2, 1)\n",
        "        x = self.conv1(x)\n",
        "        x = x.permute(0, 2, 1)\n",
        "        _, (h_n, _) = self.lstm(x)\n",
        "        logits = self.fc(h_n.squeeze(0))\n",
        "        return logits\n"
      ]
    },
    {
      "cell_type": "markdown",
      "metadata": {
        "id": "g2C7dLnzFNFD"
      },
      "source": [
        "STEP TRAINING LOOP + EVALUASI"
      ]
    },
    {
      "cell_type": "code",
      "execution_count": 21,
      "metadata": {
        "colab": {
          "base_uri": "https://localhost:8080/",
          "height": 515,
          "referenced_widgets": [
            "e32b04c88ca540919fe51f1030dddde4",
            "98232e714ce744b885108b05c9ac8591",
            "346763b53cc049f285854108067e0657",
            "7996a66bddf94987b36d8eac3099ba8a",
            "0934d4a1e08c45d0823db7f18455660c",
            "3d264ea834de4cae89b76c9d2aded99d",
            "82c0c2be00204b48a2c2f7faddd8a148",
            "e81637949a6e4d23adf4fee1dc3bbf35",
            "df20b512aaeb4e3490330e4e0a2ecc88",
            "26b74d229a924c019b345d2148da3c45",
            "3fcedb56e97847bca779cc0fb152ab12",
            "915199ed48ae4ea58f81c7967fd763a1",
            "b48f46b21a5d48908f4aa4fb4dab93fb",
            "6ffb78c9ab5d45f6bb71c38d42f9c319",
            "5239b9927fe0486eaf6051764e162b4b",
            "596320acaf1a487a93ea1528ce3f1455",
            "e2afad2829154e809ecbfdb009efc394",
            "0ed1c3d15e424728840c09be18dbf2c0",
            "91f8fe2eec094cda9c6224bd18d6bbd8",
            "e8c1839e8256479a8a3e3c8da73f4727",
            "3ab4f999cc08483ea3df6a79841dcb1c",
            "d9b44e2219344a40a5cee6ce1c297f79"
          ]
        },
        "id": "_baDEjdqErmU",
        "outputId": "583a8b78-3006-4956-dfa6-f98e4c5ee3ee"
      },
      "outputs": [
        {
          "output_type": "display_data",
          "data": {
            "text/plain": [
              "pytorch_model.bin:   0%|          | 0.00/498M [00:00<?, ?B/s]"
            ],
            "application/vnd.jupyter.widget-view+json": {
              "version_major": 2,
              "version_minor": 0,
              "model_id": "e32b04c88ca540919fe51f1030dddde4"
            }
          },
          "metadata": {}
        },
        {
          "output_type": "display_data",
          "data": {
            "text/plain": [
              "model.safetensors:   0%|          | 0.00/498M [00:00<?, ?B/s]"
            ],
            "application/vnd.jupyter.widget-view+json": {
              "version_major": 2,
              "version_minor": 0,
              "model_id": "915199ed48ae4ea58f81c7967fd763a1"
            }
          },
          "metadata": {}
        },
        {
          "output_type": "stream",
          "name": "stdout",
          "text": [
            "Epoch 2 - Loss: 0.0273\n",
            "Epoch 2 - Loss: 0.0555\n",
            "Epoch 2 - Loss: 0.0830\n",
            "Epoch 2 - Loss: 0.1099\n",
            "Epoch 2 - Loss: 0.1381\n",
            "Epoch 2 - Loss: 0.1666\n",
            "Epoch 2 - Loss: 0.1933\n",
            "Epoch 2 - Loss: 0.2199\n",
            "Epoch 2 - Loss: 0.2467\n",
            "Epoch 2 - Loss: 0.2743\n",
            "Epoch 2 - Loss: 0.3006\n",
            "Epoch 2 - Loss: 0.3276\n",
            "Epoch 2 - Loss: 0.3537\n",
            "Epoch 2 - Loss: 0.3788\n",
            "Epoch 2 - Loss: 0.4040\n",
            "Epoch 2 - Loss: 0.4299\n",
            "Epoch 2 - Loss: 0.4544\n",
            "Epoch 2 - Loss: 0.4811\n",
            "Epoch 2 - Loss: 0.5086\n",
            "Epoch 2 - Loss: 0.5354\n",
            "Epoch 2 - Loss: 0.5631\n",
            "Epoch 2 - Loss: 0.5881\n",
            "Epoch 2 - Loss: 0.6129\n",
            "Epoch 2 - Loss: 0.6368\n",
            "Epoch 2 - Loss: 0.6599\n"
          ]
        }
      ],
      "source": [
        "from torch.utils.data import TensorDataset, DataLoader\n",
        "from sklearn.metrics import classification_report, confusion_matrix\n",
        "train_dataset = TensorDataset(X_train_ids, X_train_mask, y_train)\n",
        "test_dataset = TensorDataset(X_test_ids, X_test_mask, y_test)\n",
        "train_loader = DataLoader(train_dataset, batch_size=16, shuffle=True)\n",
        "test_loader = DataLoader(test_dataset, batch_size=16)\n",
        "device = torch.device(\"cuda\" if torch.cuda.is_available() else \"cpu\")\n",
        "model = IndoBERT_CNN_LSTM().to(device)\n",
        "criterion = nn.CrossEntropyLoss()\n",
        "optimizer = torch.optim.Adam(model.parameters(), lr=2e-5)\n",
        "\n",
        "for epoch in range(2):  # Bisa tambah epoch kalau GPU cukup kuat\n",
        "    model.train()\n",
        "    total_loss = 0\n",
        "\n",
        "for batch in train_loader:\n",
        "    input_ids, attention_mask, labels = [b.to(device) for b in batch]\n",
        "\n",
        "    optimizer.zero_grad()\n",
        "    outputs = model(input_ids, attention_mask)\n",
        "    loss = criterion(outputs, labels)\n",
        "    loss.backward()\n",
        "    optimizer.step()\n",
        "\n",
        "    total_loss += loss.item()\n",
        "    print(f\"Epoch {epoch+1} - Loss: {total_loss/len(train_loader):.4f}\")"
      ]
    },
    {
      "cell_type": "markdown",
      "metadata": {
        "id": "BPNFIlQfGHFx"
      },
      "source": [
        "STEP EVALUASI MODEL"
      ]
    },
    {
      "cell_type": "code",
      "execution_count": 22,
      "metadata": {
        "colab": {
          "base_uri": "https://localhost:8080/"
        },
        "id": "EeanRDOUGWUl",
        "outputId": "e0346e82-2be1-4b46-94f8-fc928e67ec60"
      },
      "outputs": [
        {
          "output_type": "stream",
          "name": "stdout",
          "text": [
            "Classification Report:\n",
            "\n",
            "              precision    recall  f1-score   support\n",
            "\n",
            "       valid       1.00      0.15      0.26        40\n",
            "        hoax       0.64      1.00      0.78        60\n",
            "\n",
            "    accuracy                           0.66       100\n",
            "   macro avg       0.82      0.57      0.52       100\n",
            "weighted avg       0.78      0.66      0.57       100\n",
            "\n",
            "Confusion Matrix:\n",
            "\n",
            "[[ 6 34]\n",
            " [ 0 60]]\n"
          ]
        }
      ],
      "source": [
        "model.eval()\n",
        "y_true = []\n",
        "y_pred = []\n",
        "with torch.no_grad():\n",
        "    for batch in test_loader:\n",
        "        input_ids, attention_mask, labels = [b.to(device) for b in batch]\n",
        "\n",
        "        outputs = model(input_ids, attention_mask)\n",
        "        preds = torch.argmax(outputs, dim=1)\n",
        "\n",
        "        y_true.extend(labels.cpu().numpy())\n",
        "        y_pred.extend(preds.cpu().numpy())\n",
        "\n",
        "print(\"Classification Report:\\n\")\n",
        "print(classification_report(y_true, y_pred, target_names=[\"valid\", \"hoax\"]))\n",
        "\n",
        "print(\"Confusion Matrix:\\n\")\n",
        "print(confusion_matrix(y_true, y_pred))"
      ]
    },
    {
      "cell_type": "code",
      "execution_count": 23,
      "metadata": {
        "colab": {
          "base_uri": "https://localhost:8080/",
          "height": 73
        },
        "id": "KRI5q_WZJhhR",
        "outputId": "70c3ab95-242f-4dc4-f2ce-9972fed5affa"
      },
      "outputs": [
        {
          "output_type": "display_data",
          "data": {
            "text/plain": [
              "<IPython.core.display.HTML object>"
            ],
            "text/html": [
              "\n",
              "     <input type=\"file\" id=\"files-f7b7bbfc-5511-408c-8fc9-91dfe643645e\" name=\"files[]\" multiple disabled\n",
              "        style=\"border:none\" />\n",
              "     <output id=\"result-f7b7bbfc-5511-408c-8fc9-91dfe643645e\">\n",
              "      Upload widget is only available when the cell has been executed in the\n",
              "      current browser session. Please rerun this cell to enable.\n",
              "      </output>\n",
              "      <script>// Copyright 2017 Google LLC\n",
              "//\n",
              "// Licensed under the Apache License, Version 2.0 (the \"License\");\n",
              "// you may not use this file except in compliance with the License.\n",
              "// You may obtain a copy of the License at\n",
              "//\n",
              "//      http://www.apache.org/licenses/LICENSE-2.0\n",
              "//\n",
              "// Unless required by applicable law or agreed to in writing, software\n",
              "// distributed under the License is distributed on an \"AS IS\" BASIS,\n",
              "// WITHOUT WARRANTIES OR CONDITIONS OF ANY KIND, either express or implied.\n",
              "// See the License for the specific language governing permissions and\n",
              "// limitations under the License.\n",
              "\n",
              "/**\n",
              " * @fileoverview Helpers for google.colab Python module.\n",
              " */\n",
              "(function(scope) {\n",
              "function span(text, styleAttributes = {}) {\n",
              "  const element = document.createElement('span');\n",
              "  element.textContent = text;\n",
              "  for (const key of Object.keys(styleAttributes)) {\n",
              "    element.style[key] = styleAttributes[key];\n",
              "  }\n",
              "  return element;\n",
              "}\n",
              "\n",
              "// Max number of bytes which will be uploaded at a time.\n",
              "const MAX_PAYLOAD_SIZE = 100 * 1024;\n",
              "\n",
              "function _uploadFiles(inputId, outputId) {\n",
              "  const steps = uploadFilesStep(inputId, outputId);\n",
              "  const outputElement = document.getElementById(outputId);\n",
              "  // Cache steps on the outputElement to make it available for the next call\n",
              "  // to uploadFilesContinue from Python.\n",
              "  outputElement.steps = steps;\n",
              "\n",
              "  return _uploadFilesContinue(outputId);\n",
              "}\n",
              "\n",
              "// This is roughly an async generator (not supported in the browser yet),\n",
              "// where there are multiple asynchronous steps and the Python side is going\n",
              "// to poll for completion of each step.\n",
              "// This uses a Promise to block the python side on completion of each step,\n",
              "// then passes the result of the previous step as the input to the next step.\n",
              "function _uploadFilesContinue(outputId) {\n",
              "  const outputElement = document.getElementById(outputId);\n",
              "  const steps = outputElement.steps;\n",
              "\n",
              "  const next = steps.next(outputElement.lastPromiseValue);\n",
              "  return Promise.resolve(next.value.promise).then((value) => {\n",
              "    // Cache the last promise value to make it available to the next\n",
              "    // step of the generator.\n",
              "    outputElement.lastPromiseValue = value;\n",
              "    return next.value.response;\n",
              "  });\n",
              "}\n",
              "\n",
              "/**\n",
              " * Generator function which is called between each async step of the upload\n",
              " * process.\n",
              " * @param {string} inputId Element ID of the input file picker element.\n",
              " * @param {string} outputId Element ID of the output display.\n",
              " * @return {!Iterable<!Object>} Iterable of next steps.\n",
              " */\n",
              "function* uploadFilesStep(inputId, outputId) {\n",
              "  const inputElement = document.getElementById(inputId);\n",
              "  inputElement.disabled = false;\n",
              "\n",
              "  const outputElement = document.getElementById(outputId);\n",
              "  outputElement.innerHTML = '';\n",
              "\n",
              "  const pickedPromise = new Promise((resolve) => {\n",
              "    inputElement.addEventListener('change', (e) => {\n",
              "      resolve(e.target.files);\n",
              "    });\n",
              "  });\n",
              "\n",
              "  const cancel = document.createElement('button');\n",
              "  inputElement.parentElement.appendChild(cancel);\n",
              "  cancel.textContent = 'Cancel upload';\n",
              "  const cancelPromise = new Promise((resolve) => {\n",
              "    cancel.onclick = () => {\n",
              "      resolve(null);\n",
              "    };\n",
              "  });\n",
              "\n",
              "  // Wait for the user to pick the files.\n",
              "  const files = yield {\n",
              "    promise: Promise.race([pickedPromise, cancelPromise]),\n",
              "    response: {\n",
              "      action: 'starting',\n",
              "    }\n",
              "  };\n",
              "\n",
              "  cancel.remove();\n",
              "\n",
              "  // Disable the input element since further picks are not allowed.\n",
              "  inputElement.disabled = true;\n",
              "\n",
              "  if (!files) {\n",
              "    return {\n",
              "      response: {\n",
              "        action: 'complete',\n",
              "      }\n",
              "    };\n",
              "  }\n",
              "\n",
              "  for (const file of files) {\n",
              "    const li = document.createElement('li');\n",
              "    li.append(span(file.name, {fontWeight: 'bold'}));\n",
              "    li.append(span(\n",
              "        `(${file.type || 'n/a'}) - ${file.size} bytes, ` +\n",
              "        `last modified: ${\n",
              "            file.lastModifiedDate ? file.lastModifiedDate.toLocaleDateString() :\n",
              "                                    'n/a'} - `));\n",
              "    const percent = span('0% done');\n",
              "    li.appendChild(percent);\n",
              "\n",
              "    outputElement.appendChild(li);\n",
              "\n",
              "    const fileDataPromise = new Promise((resolve) => {\n",
              "      const reader = new FileReader();\n",
              "      reader.onload = (e) => {\n",
              "        resolve(e.target.result);\n",
              "      };\n",
              "      reader.readAsArrayBuffer(file);\n",
              "    });\n",
              "    // Wait for the data to be ready.\n",
              "    let fileData = yield {\n",
              "      promise: fileDataPromise,\n",
              "      response: {\n",
              "        action: 'continue',\n",
              "      }\n",
              "    };\n",
              "\n",
              "    // Use a chunked sending to avoid message size limits. See b/62115660.\n",
              "    let position = 0;\n",
              "    do {\n",
              "      const length = Math.min(fileData.byteLength - position, MAX_PAYLOAD_SIZE);\n",
              "      const chunk = new Uint8Array(fileData, position, length);\n",
              "      position += length;\n",
              "\n",
              "      const base64 = btoa(String.fromCharCode.apply(null, chunk));\n",
              "      yield {\n",
              "        response: {\n",
              "          action: 'append',\n",
              "          file: file.name,\n",
              "          data: base64,\n",
              "        },\n",
              "      };\n",
              "\n",
              "      let percentDone = fileData.byteLength === 0 ?\n",
              "          100 :\n",
              "          Math.round((position / fileData.byteLength) * 100);\n",
              "      percent.textContent = `${percentDone}% done`;\n",
              "\n",
              "    } while (position < fileData.byteLength);\n",
              "  }\n",
              "\n",
              "  // All done.\n",
              "  yield {\n",
              "    response: {\n",
              "      action: 'complete',\n",
              "    }\n",
              "  };\n",
              "}\n",
              "\n",
              "scope.google = scope.google || {};\n",
              "scope.google.colab = scope.google.colab || {};\n",
              "scope.google.colab._files = {\n",
              "  _uploadFiles,\n",
              "  _uploadFilesContinue,\n",
              "};\n",
              "})(self);\n",
              "</script> "
            ]
          },
          "metadata": {}
        },
        {
          "output_type": "stream",
          "name": "stdout",
          "text": [
            "Saving kompas_dataset_with_text.csv to kompas_dataset_with_text.csv\n"
          ]
        }
      ],
      "source": [
        "from google.colab import files\n",
        "uploaded = files.upload()"
      ]
    },
    {
      "cell_type": "code",
      "execution_count": 24,
      "metadata": {
        "id": "UCgTTCljKkYq"
      },
      "outputs": [],
      "source": [
        "df_valid = pd.read_csv(\"kompas_dataset_with_text.csv\")"
      ]
    },
    {
      "cell_type": "code",
      "execution_count": 25,
      "metadata": {
        "id": "0PBVl9UaKovJ"
      },
      "outputs": [],
      "source": [
        "df_hoax = df"
      ]
    },
    {
      "cell_type": "code",
      "execution_count": 26,
      "metadata": {
        "id": "MxmpTA0xKsnV"
      },
      "outputs": [],
      "source": [
        "df_valid['label'] = 'valid'\n",
        "df_hoax['label'] = 'hoax'"
      ]
    },
    {
      "cell_type": "code",
      "execution_count": 27,
      "metadata": {
        "id": "xqzUKekFKrGZ"
      },
      "outputs": [],
      "source": [
        "df_valid = df_valid[['teks', 'label']].dropna()\n",
        "df_hoax = df_hoax[['teks', 'label']].dropna()"
      ]
    },
    {
      "cell_type": "code",
      "execution_count": 28,
      "metadata": {
        "id": "_hS4mtA3Kv6y"
      },
      "outputs": [],
      "source": [
        "df_final = pd.concat([df_valid, df_hoax]).sample(frac=1, random_state=42).reset_index(drop=True)"
      ]
    },
    {
      "cell_type": "code",
      "execution_count": 29,
      "metadata": {
        "id": "sApUOszSK1Mx"
      },
      "outputs": [],
      "source": [
        "import seaborn as sns\n",
        "import matplotlib.pyplot as plt\n"
      ]
    },
    {
      "cell_type": "code",
      "execution_count": 30,
      "metadata": {
        "colab": {
          "base_uri": "https://localhost:8080/",
          "height": 472
        },
        "id": "3Wobzs0iK2sV",
        "outputId": "17d8a6c9-606a-40be-c005-ff160c4d7cb8"
      },
      "outputs": [
        {
          "output_type": "display_data",
          "data": {
            "text/plain": [
              "<Figure size 640x480 with 1 Axes>"
            ],
            "image/png": "[encoded data removed]"
          },
          "metadata": {}
        }
      ],
      "source": [
        "sns.countplot(data=df_final, x='label')\n",
        "plt.title(\"Distribusi Label Hoaks vs Valid (Gabungan)\")\n",
        "plt.show()"
      ]
    },
    {
      "cell_type": "code",
      "execution_count": 31,
      "metadata": {
        "id": "WTMB9incK7RV"
      },
      "outputs": [],
      "source": [
        "from sklearn.model_selection import train_test_split\n",
        "from sklearn.preprocessing import LabelEncoder\n",
        "le = LabelEncoder()\n",
        "df_final['label_enc'] = le.fit_transform(df_final['label'])\n",
        "X_train, X_test, y_train, y_test = train_test_split(\n",
        "    df_final['teks'], df_final['label_enc'],\n",
        "    test_size=0.2, random_state=42, stratify=df_final['label_enc']\n",
        ")"
      ]
    },
    {
      "cell_type": "code",
      "execution_count": 32,
      "metadata": {
        "id": "11snd8hmLG2V"
      },
      "outputs": [],
      "source": [
        "from transformers import BertTokenizer\n",
        "tokenizer = BertTokenizer.from_pretrained('indobenchmark/indobert-base-p1')\n",
        "def tokenize_batch(texts):\n",
        "    return tokenizer(\n",
        "        list(texts),\n",
        "        padding=True,\n",
        "        truncation=True,\n",
        "        max_length=512,\n",
        "        return_tensors='pt'\n",
        "    )\n",
        "\n",
        "train_encodings = tokenize_batch(X_train)\n",
        "test_encodings = tokenize_batch(X_test)\n",
        "import torch\n",
        "y_train = torch.tensor(y_train.values)\n",
        "y_test = torch.tensor(y_test.values)\n",
        "X_train_ids = train_encodings['input_ids']\n",
        "X_train_mask = train_encodings['attention_mask']\n",
        "X_test_ids = test_encodings['input_ids']\n",
        "X_test_mask = test_encodings['attention_mask']"
      ]
    },
    {
      "cell_type": "code",
      "execution_count": 33,
      "metadata": {
        "id": "kMzISme-D0D8"
      },
      "outputs": [],
      "source": [
        "from torch.utils.data import TensorDataset, DataLoader\n",
        "train_dataset = TensorDataset(X_train_ids, X_train_mask, y_train)\n",
        "test_dataset = TensorDataset(X_test_ids, X_test_mask, y_test)\n",
        "train_loader = DataLoader(train_dataset, batch_size=16, shuffle=True)\n",
        "test_loader = DataLoader(test_dataset, batch_size=16)"
      ]
    },
    {
      "cell_type": "code",
      "execution_count": 34,
      "metadata": {
        "id": "JiQPR0HUD9th"
      },
      "outputs": [],
      "source": [
        "import torch.nn as nn\n",
        "\n",
        "device = torch.device(\"cuda\" if torch.cuda.is_available() else \"cpu\")\n",
        "\n",
        "model = IndoBERT_CNN_LSTM().to(device)\n",
        "criterion = nn.CrossEntropyLoss()\n",
        "optimizer = torch.optim.Adam(model.parameters(), lr=2e-5)"
      ]
    },
    {
      "cell_type": "code",
      "execution_count": 35,
      "metadata": {
        "colab": {
          "base_uri": "https://localhost:8080/"
        },
        "id": "CASHjk_AM2k7",
        "outputId": "b38e9019-86f1-48b2-ee65-98ab0d6900cc"
      },
      "outputs": [
        {
          "output_type": "stream",
          "name": "stdout",
          "text": [
            "Epoch 1 - Loss: 0.5714\n",
            "Epoch 2 - Loss: 0.3282\n"
          ]
        }
      ],
      "source": [
        "for epoch in range(2):\n",
        "    model.train()\n",
        "    total_loss = 0\n",
        "    for batch in train_loader:\n",
        "        input_ids, attention_mask, labels = [b.to(device) for b in batch]\n",
        "\n",
        "        optimizer.zero_grad()\n",
        "        outputs = model(input_ids, attention_mask)\n",
        "        loss = criterion(outputs, labels)\n",
        "        loss.backward()\n",
        "        optimizer.step()\n",
        "\n",
        "        total_loss += loss.item()\n",
        "\n",
        "    print(f\"Epoch {epoch+1} - Loss: {total_loss / len(train_loader):.4f}\")"
      ]
    },
    {
      "cell_type": "code",
      "execution_count": 36,
      "metadata": {
        "colab": {
          "base_uri": "https://localhost:8080/"
        },
        "id": "R8V87UvaNKAH",
        "outputId": "b7e496a1-61c6-41ce-9701-2d7d9935bddb"
      },
      "outputs": [
        {
          "output_type": "stream",
          "name": "stdout",
          "text": [
            "Classification Report:\n",
            "\n",
            "              precision    recall  f1-score   support\n",
            "\n",
            "       valid       0.97      0.96      0.96       100\n",
            "        hoax       0.96      0.97      0.96        99\n",
            "\n",
            "    accuracy                           0.96       199\n",
            "   macro avg       0.96      0.96      0.96       199\n",
            "weighted avg       0.96      0.96      0.96       199\n",
            "\n",
            "Confusion Matrix:\n",
            "\n",
            "[[96  4]\n",
            " [ 3 96]]\n"
          ]
        }
      ],
      "source": [
        "from sklearn.metrics import classification_report, confusion_matrix\n",
        "\n",
        "model.eval()\n",
        "y_true = []\n",
        "y_pred = []\n",
        "\n",
        "with torch.no_grad():\n",
        "    for batch in test_loader:\n",
        "        input_ids, attention_mask, labels = [b.to(device) for b in batch]\n",
        "        outputs = model(input_ids, attention_mask)\n",
        "        preds = torch.argmax(outputs, dim=1)\n",
        "\n",
        "        y_true.extend(labels.cpu().numpy())\n",
        "        y_pred.extend(preds.cpu().numpy())\n",
        "\n",
        "print(\"Classification Report:\\n\")\n",
        "print(classification_report(y_true, y_pred, target_names=[\"valid\", \"hoax\"]))\n",
        "\n",
        "print(\"Confusion Matrix:\\n\")\n",
        "print(confusion_matrix(y_true, y_pred))"
      ]
    },
    {
      "cell_type": "markdown",
      "metadata": {
        "id": "5-iviQGSNecT"
      },
      "source": [
        "imbang, recall tinggi di hoaks 98% artinya model deteksinya baik dan precisionnya tinggi artinya berita hoaks nya bener\" hoaks. dari condusion matrix artinya ada 199 data dan yg 193 data terprediksi benar sedangkan 6 data salah"
      ]
    },
    {
      "cell_type": "markdown",
      "source": [
        "**Analisis Statistik**"
      ],
      "metadata": {
        "id": "CiHy0hKS4FCS"
      }
    },
    {
      "cell_type": "code",
      "execution_count": 37,
      "metadata": {
        "id": "q_A9qJ04PaNT",
        "colab": {
          "base_uri": "https://localhost:8080/"
        },
        "outputId": "5a12635f-b5a1-4942-c2fa-21618fdfbb41"
      },
      "outputs": [
        {
          "output_type": "stream",
          "name": "stdout",
          "text": [
            "       panjang_karakter  jumlah_kata\n",
            "count        995.000000   995.000000\n",
            "mean        2225.472362   272.377889\n",
            "std          643.997636    87.938816\n",
            "min           22.000000     3.000000\n",
            "25%         1761.000000   206.000000\n",
            "50%         2157.000000   265.000000\n",
            "75%         2609.500000   332.000000\n",
            "max         5154.000000   666.000000\n"
          ]
        }
      ],
      "source": [
        "df_final['panjang_karakter'] = df_final['teks'].apply(len)\n",
        "df_final['jumlah_kata'] = df_final['teks'].apply(lambda x: len(str(x).split()))\n",
        "print(df_final[['panjang_karakter', 'jumlah_kata']].describe())"
      ]
    },
    {
      "cell_type": "markdown",
      "source": [
        "**Visualisasi Pendukung**"
      ],
      "metadata": {
        "id": "LFTBrLS-3-un"
      }
    },
    {
      "cell_type": "code",
      "source": [
        "import seaborn as sns\n",
        "import matplotlib.pyplot as plt\n",
        "plt.figure(figsize=(10,4))\n",
        "sns.histplot(data=df_final, x='panjang_karakter', hue='label', kde=True, bins=30)\n",
        "plt.title(\"Distribusi Panjang Karakter Teks\")\n",
        "plt.show()\n",
        "plt.figure(figsize=(8,4))\n",
        "sns.boxplot(data=df_final, x='label', y='jumlah_kata')\n",
        "plt.title(\"Sebaran Jumlah Kata per Kelas\")\n",
        "plt.show()"
      ],
      "metadata": {
        "colab": {
          "base_uri": "https://localhost:8080/",
          "height": 667
        },
        "id": "jorYYpp033wq",
        "outputId": "e904ddcd-51c5-49f9-c3c6-fcb054f3b90d"
      },
      "execution_count": 38,
      "outputs": [
        {
          "output_type": "display_data",
          "data": {
            "text/plain": [
              "<Figure size 1000x400 with 1 Axes>"
            ],
            "image/png": "[encoded data removed]"
          },
          "metadata": {}
        },
        {
          "output_type": "display_data",
          "data": {
            "text/plain": [
              "<Figure size 800x400 with 1 Axes>"
            ],
            "image/png": "[encoded data removed]"
          },
          "metadata": {}
        }
      ]
    },
    {
      "cell_type": "code",
      "source": [
        "df_hoax['label'] = 'hoax'\n",
        "df_valid['label'] = 'valid'\n",
        "\n",
        "df_hoax = df_hoax[['teks', 'label']]\n",
        "df_valid = df_valid[['teks', 'label']]\n",
        "df = pd.concat([df_hoax, df_valid]).sample(frac=1, random_state=42).reset_index(drop=True)\n",
        "df['label_enc'] = df['label'].map({'valid': 0, 'hoax': 1})"
      ],
      "metadata": {
        "id": "jVI3QPQjRu0l"
      },
      "execution_count": 39,
      "outputs": []
    },
    {
      "cell_type": "markdown",
      "source": [
        "CLEANING TEXT\n"
      ],
      "metadata": {
        "id": "3kl-UEHYV7DB"
      }
    },
    {
      "cell_type": "code",
      "source": [
        "import re\n",
        "\n",
        "def clean_text(text):\n",
        "    text = str(text).lower()  # lowercase\n",
        "    text = re.sub(r\"http\\S+|www.\\S+\", '', text)  # hapus URL\n",
        "    text = re.sub(r\"\\d+\", '', text)  # hapus angka\n",
        "    text = re.sub(r\"[^\\w\\s]\", '', text)  # hapus tanda baca\n",
        "    text = re.sub(r\"\\s+\", ' ', text).strip()  # hapus spasi ganda\n",
        "    return text\n",
        "\n",
        "# Terapkan ke kolom teks\n",
        "df['teks_clean'] = df['teks'].apply(clean_text)\n",
        "\n",
        "# Cek hasil\n",
        "df[['teks', 'teks_clean']].head()\n"
      ],
      "metadata": {
        "colab": {
          "base_uri": "https://localhost:8080/",
          "height": 293
        },
        "id": "erGyAlpaUyx5",
        "outputId": "83bd7579-999f-4b22-a584-28ce71769994"
      },
      "execution_count": 40,
      "outputs": [
        {
          "output_type": "execute_result",
          "data": {
            "text/plain": [
              "                                                teks  \\\n",
              "0  JAKARTA, KOMPAS.com- Ketua Badan Pengawas Pemi...   \n",
              "1  JAKARTA, KOMPAS.com- Menteri Agraria dan Tata ...   \n",
              "2  JAKARTA, KOMPAS.com- Kepala Staf Kepresidenan ...   \n",
              "3  TANGERANG, KOMPAS.com- Polisi mendalami kasusp...   \n",
              "4  JAKARTA, KOMPAS.com- Presiden Human Initiative...   \n",
              "\n",
              "                                          teks_clean  \n",
              "0  jakarta kompascom ketua badan pengawas pemilu ...  \n",
              "1  jakarta kompascom menteri agraria dan tata rua...  \n",
              "2  jakarta kompascom kepala staf kepresidenan ksp...  \n",
              "3  tangerang kompascom polisi mendalami kasuspeny...  \n",
              "4  jakarta kompascom presiden human initiative to...  "
            ],
            "text/html": [
              "\n",
              "  <div id=\"df-5abe2c02-98bf-4310-8152-2c4bd88200b9\" class=\"colab-df-container\">\n",
              "    <div>\n",
              "<style scoped>\n",
              "    .dataframe tbody tr th:only-of-type {\n",
              "        vertical-align: middle;\n",
              "    }\n",
              "\n",
              "    .dataframe tbody tr th {\n",
              "        vertical-align: top;\n",
              "    }\n",
              "\n",
              "    .dataframe thead th {\n",
              "        text-align: right;\n",
              "    }\n",
              "</style>\n",
              "<table border=\"1\" class=\"dataframe\">\n",
              "  <thead>\n",
              "    <tr style=\"text-align: right;\">\n",
              "      <th></th>\n",
              "      <th>teks</th>\n",
              "      <th>teks_clean</th>\n",
              "    </tr>\n",
              "  </thead>\n",
              "  <tbody>\n",
              "    <tr>\n",
              "      <th>0</th>\n",
              "      <td>JAKARTA, KOMPAS.com- Ketua Badan Pengawas Pemi...</td>\n",
              "      <td>jakarta kompascom ketua badan pengawas pemilu ...</td>\n",
              "    </tr>\n",
              "    <tr>\n",
              "      <th>1</th>\n",
              "      <td>JAKARTA, KOMPAS.com- Menteri Agraria dan Tata ...</td>\n",
              "      <td>jakarta kompascom menteri agraria dan tata rua...</td>\n",
              "    </tr>\n",
              "    <tr>\n",
              "      <th>2</th>\n",
              "      <td>JAKARTA, KOMPAS.com- Kepala Staf Kepresidenan ...</td>\n",
              "      <td>jakarta kompascom kepala staf kepresidenan ksp...</td>\n",
              "    </tr>\n",
              "    <tr>\n",
              "      <th>3</th>\n",
              "      <td>TANGERANG, KOMPAS.com- Polisi mendalami kasusp...</td>\n",
              "      <td>tangerang kompascom polisi mendalami kasuspeny...</td>\n",
              "    </tr>\n",
              "    <tr>\n",
              "      <th>4</th>\n",
              "      <td>JAKARTA, KOMPAS.com- Presiden Human Initiative...</td>\n",
              "      <td>jakarta kompascom presiden human initiative to...</td>\n",
              "    </tr>\n",
              "  </tbody>\n",
              "</table>\n",
              "</div>\n",
              "    <div class=\"colab-df-buttons\">\n",
              "\n",
              "  <div class=\"colab-df-container\">\n",
              "    <button class=\"colab-df-convert\" onclick=\"convertToInteractive('df-5abe2c02-98bf-4310-8152-2c4bd88200b9')\"\n",
              "            title=\"Convert this dataframe to an interactive table.\"\n",
              "            style=\"display:none;\">\n",
              "\n",
              "  <svg xmlns=\"http://www.w3.org/2000/svg\" height=\"24px\" viewBox=\"0 -960 960 960\">\n",
              "    <path d=\"M120-120v-720h720v720H120Zm60-500h600v-160H180v160Zm220 220h160v-160H400v160Zm0 220h160v-160H400v160ZM180-400h160v-160H180v160Zm440 0h160v-160H620v160ZM180-180h160v-160H180v160Zm440 0h160v-160H620v160Z\"/>\n",
              "  </svg>\n",
              "    </button>\n",
              "\n",
              "  <style>\n",
              "    .colab-df-container {\n",
              "      display:flex;\n",
              "      gap: 12px;\n",
              "    }\n",
              "\n",
              "    .colab-df-convert {\n",
              "      background-color: #E8F0FE;\n",
              "      border: none;\n",
              "      border-radius: 50%;\n",
              "      cursor: pointer;\n",
              "      display: none;\n",
              "      fill: #1967D2;\n",
              "      height: 32px;\n",
              "      padding: 0 0 0 0;\n",
              "      width: 32px;\n",
              "    }\n",
              "\n",
              "    .colab-df-convert:hover {\n",
              "      background-color: #E2EBFA;\n",
              "      box-shadow: 0px 1px 2px rgba(60, 64, 67, 0.3), 0px 1px 3px 1px rgba(60, 64, 67, 0.15);\n",
              "      fill: #174EA6;\n",
              "    }\n",
              "\n",
              "    .colab-df-buttons div {\n",
              "      margin-bottom: 4px;\n",
              "    }\n",
              "\n",
              "    [theme=dark] .colab-df-convert {\n",
              "      background-color: #3B4455;\n",
              "      fill: #D2E3FC;\n",
              "    }\n",
              "\n",
              "    [theme=dark] .colab-df-convert:hover {\n",
              "      background-color: #434B5C;\n",
              "      box-shadow: 0px 1px 3px 1px rgba(0, 0, 0, 0.15);\n",
              "      filter: drop-shadow(0px 1px 2px rgba(0, 0, 0, 0.3));\n",
              "      fill: #FFFFFF;\n",
              "    }\n",
              "  </style>\n",
              "\n",
              "    <script>\n",
              "      const buttonEl =\n",
              "        document.querySelector('#df-5abe2c02-98bf-4310-8152-2c4bd88200b9 button.colab-df-convert');\n",
              "      buttonEl.style.display =\n",
              "        google.colab.kernel.accessAllowed ? 'block' : 'none';\n",
              "\n",
              "      async function convertToInteractive(key) {\n",
              "        const element = document.querySelector('#df-5abe2c02-98bf-4310-8152-2c4bd88200b9');\n",
              "        const dataTable =\n",
              "          await google.colab.kernel.invokeFunction('convertToInteractive',\n",
              "                                                    [key], {});\n",
              "        if (!dataTable) return;\n",
              "\n",
              "        const docLinkHtml = 'Like what you see? Visit the ' +\n",
              "          '<a target=\"_blank\" href=https://colab.research.google.com/notebooks/data_table.ipynb>data table notebook</a>'\n",
              "          + ' to learn more about interactive tables.';\n",
              "        element.innerHTML = '';\n",
              "        dataTable['output_type'] = 'display_data';\n",
              "        await google.colab.output.renderOutput(dataTable, element);\n",
              "        const docLink = document.createElement('div');\n",
              "        docLink.innerHTML = docLinkHtml;\n",
              "        element.appendChild(docLink);\n",
              "      }\n",
              "    </script>\n",
              "  </div>\n",
              "\n",
              "\n",
              "    <div id=\"df-62f19a47-d2ba-49d5-9e06-3988a36357e2\">\n",
              "      <button class=\"colab-df-quickchart\" onclick=\"quickchart('df-62f19a47-d2ba-49d5-9e06-3988a36357e2')\"\n",
              "                title=\"Suggest charts\"\n",
              "                style=\"display:none;\">\n",
              "\n",
              "<svg xmlns=\"http://www.w3.org/2000/svg\" height=\"24px\"viewBox=\"0 0 24 24\"\n",
              "     width=\"24px\">\n",
              "    <g>\n",
              "        <path d=\"M19 3H5c-1.1 0-2 .9-2 2v14c0 1.1.9 2 2 2h14c1.1 0 2-.9 2-2V5c0-1.1-.9-2-2-2zM9 17H7v-7h2v7zm4 0h-2V7h2v10zm4 0h-2v-4h2v4z\"/>\n",
              "    </g>\n",
              "</svg>\n",
              "      </button>\n",
              "\n",
              "<style>\n",
              "  .colab-df-quickchart {\n",
              "      --bg-color: #E8F0FE;\n",
              "      --fill-color: #1967D2;\n",
              "      --hover-bg-color: #E2EBFA;\n",
              "      --hover-fill-color: #174EA6;\n",
              "      --disabled-fill-color: #AAA;\n",
              "      --disabled-bg-color: #DDD;\n",
              "  }\n",
              "\n",
              "  [theme=dark] .colab-df-quickchart {\n",
              "      --bg-color: #3B4455;\n",
              "      --fill-color: #D2E3FC;\n",
              "      --hover-bg-color: #434B5C;\n",
              "      --hover-fill-color: #FFFFFF;\n",
              "      --disabled-bg-color: #3B4455;\n",
              "      --disabled-fill-color: #666;\n",
              "  }\n",
              "\n",
              "  .colab-df-quickchart {\n",
              "    background-color: var(--bg-color);\n",
              "    border: none;\n",
              "    border-radius: 50%;\n",
              "    cursor: pointer;\n",
              "    display: none;\n",
              "    fill: var(--fill-color);\n",
              "    height: 32px;\n",
              "    padding: 0;\n",
              "    width: 32px;\n",
              "  }\n",
              "\n",
              "  .colab-df-quickchart:hover {\n",
              "    background-color: var(--hover-bg-color);\n",
              "    box-shadow: 0 1px 2px rgba(60, 64, 67, 0.3), 0 1px 3px 1px rgba(60, 64, 67, 0.15);\n",
              "    fill: var(--button-hover-fill-color);\n",
              "  }\n",
              "\n",
              "  .colab-df-quickchart-complete:disabled,\n",
              "  .colab-df-quickchart-complete:disabled:hover {\n",
              "    background-color: var(--disabled-bg-color);\n",
              "    fill: var(--disabled-fill-color);\n",
              "    box-shadow: none;\n",
              "  }\n",
              "\n",
              "  .colab-df-spinner {\n",
              "    border: 2px solid var(--fill-color);\n",
              "    border-color: transparent;\n",
              "    border-bottom-color: var(--fill-color);\n",
              "    animation:\n",
              "      spin 1s steps(1) infinite;\n",
              "  }\n",
              "\n",
              "  @keyframes spin {\n",
              "    0% {\n",
              "      border-color: transparent;\n",
              "      border-bottom-color: var(--fill-color);\n",
              "      border-left-color: var(--fill-color);\n",
              "    }\n",
              "    20% {\n",
              "      border-color: transparent;\n",
              "      border-left-color: var(--fill-color);\n",
              "      border-top-color: var(--fill-color);\n",
              "    }\n",
              "    30% {\n",
              "      border-color: transparent;\n",
              "      border-left-color: var(--fill-color);\n",
              "      border-top-color: var(--fill-color);\n",
              "      border-right-color: var(--fill-color);\n",
              "    }\n",
              "    40% {\n",
              "      border-color: transparent;\n",
              "      border-right-color: var(--fill-color);\n",
              "      border-top-color: var(--fill-color);\n",
              "    }\n",
              "    60% {\n",
              "      border-color: transparent;\n",
              "      border-right-color: var(--fill-color);\n",
              "    }\n",
              "    80% {\n",
              "      border-color: transparent;\n",
              "      border-right-color: var(--fill-color);\n",
              "      border-bottom-color: var(--fill-color);\n",
              "    }\n",
              "    90% {\n",
              "      border-color: transparent;\n",
              "      border-bottom-color: var(--fill-color);\n",
              "    }\n",
              "  }\n",
              "</style>\n",
              "\n",
              "      <script>\n",
              "        async function quickchart(key) {\n",
              "          const quickchartButtonEl =\n",
              "            document.querySelector('#' + key + ' button');\n",
              "          quickchartButtonEl.disabled = true;  // To prevent multiple clicks.\n",
              "          quickchartButtonEl.classList.add('colab-df-spinner');\n",
              "          try {\n",
              "            const charts = await google.colab.kernel.invokeFunction(\n",
              "                'suggestCharts', [key], {});\n",
              "          } catch (error) {\n",
              "            console.error('Error during call to suggestCharts:', error);\n",
              "          }\n",
              "          quickchartButtonEl.classList.remove('colab-df-spinner');\n",
              "          quickchartButtonEl.classList.add('colab-df-quickchart-complete');\n",
              "        }\n",
              "        (() => {\n",
              "          let quickchartButtonEl =\n",
              "            document.querySelector('#df-62f19a47-d2ba-49d5-9e06-3988a36357e2 button');\n",
              "          quickchartButtonEl.style.display =\n",
              "            google.colab.kernel.accessAllowed ? 'block' : 'none';\n",
              "        })();\n",
              "      </script>\n",
              "    </div>\n",
              "\n",
              "    </div>\n",
              "  </div>\n"
            ],
            "application/vnd.google.colaboratory.intrinsic+json": {
              "type": "dataframe",
              "summary": "{\n  \"name\": \"df[['teks', 'teks_clean']]\",\n  \"rows\": 5,\n  \"fields\": [\n    {\n      \"column\": \"teks\",\n      \"properties\": {\n        \"dtype\": \"string\",\n        \"num_unique_values\": 5,\n        \"samples\": [\n          \"JAKARTA, KOMPAS.com- Menteri Agraria dan Tata Ruang/Kepala Badan Pertanahan Nasional (ATR/BPN) Nusron Wahid akan menyiapkan sanksi denda bagi 537 badan hukum pengelola kelapa sawit yang tidak memiliki hak guna usaha (HGU).Menurut Nusron, nilai denda tersebut sedang dihitung oleh Badan Pengawasan Keuangan dan Pembangunan (BPKP).Sedangkan, kasus hukumnya akan diserahkan ke Kejaksaan Agung (Kejagung).\\\"Soal sanksinya itu nanti sedang dihitung. Sanksinya, dendanya, sedang dihitung oleh BPKP. soal masalah hukumnya, itu nanti menjadi ranahnya Pak Jaksa Agung,\\\" kata Nusron di Kompleks Parlemen, Jakarta, Rabu (30/10/2024).Baca juga:Menteri Nusron Ungkap 537 Badan Pengelola Sawit Tak Punya HGU Sejak 2016Nusron menambahkan, Kementerian ATR/BPN juga sedang melakukan evaluasi untuk menertibkan dan menyelesaikan penerbitan HGU dari ratusan perusahaan ini.\\\"Kami saat ini sedang menertibkan dan mengevaluasi menahan dulu, sementara proses pengajuan, pendaftaran maupun penerbitan HGU-nya karena menurut ketentuan, masalah ini harus selesai pada tanggal 3 Desember,\\\" ujar Nusron.Adapun sebanyak 537 badan pengelola kelapa sawit itu tidak memiliki HGU sejak tahun 2016.Ratusan badan tersebut tidak memiliki HGU namun memiliki izin usaha perkebunan (IUP) kelapa sawit.Nusron menjelaskan pada 2016 Mahkamah Konstitusi (MK) menerbitkan putusan yang mewajibkan suatu badan pengelola sawit memiliki IUP dan HGU. Padahal, aturan sebelumnya hanya memperbolehkan salah satunya saja.\\\"Berarti yang boleh menanam harus punya HGU dan punya IUP. Nah berarti selama 7 tahun ada yang tidak mengurus HGU-nya, ya kan? Nah ini yang mau kita tertibkan,\\\" ujar Nusron.Baca juga:Derita Buruh Sawit Perempuan di Tengah Krisis Iklim, dari Keguguran hingga Nyaris ButaNusron mengungkapkan ini dalam rapat Komisi II DPR, Kompleks Parlemen, Jakarta, Selasa (29/10/2024).Jika ditotal jumlahnya, ada 2,5 juta hektare lahan sawit yang tidak memiliki HGU sejak 2016.\\\"Ada 537 badan hukum dari 2016 bulan Oktober sampai sekarang ada yang menanam kepala sawit punya IUP tapi tidak punya HGU,\\\" kata Nusron dalam rapat.Nusron menegaskan akan menertibkan dan menyelesaikan pendaftaran dan penerbitan sertifikat HGU untuk 537 badan hukum yang sudah mempunyai izin usaha perkebunan kelapa sawit.\\\"Ini yang mau kita tertibkan dalam 100 hari ini harus tuntas. Kalau di total jumlahnya berapa, jumlahnya ada 2,5 juta hektare ini yang APL (area penggunaan lain) bukan di kawasan hutan,\\\" ucapnya.Simakbreaking newsdanberita pilihankami langsung di ponselmu. Pilih saluran andalanmu akses berita Kompas.com WhatsApp Channel :https://www.whatsapp.com/channel/0029VaFPbedBPzjZrk13HO3D. Pastikan kamu sudah install aplikasi WhatsApp ya.\",\n          \"JAKARTA, KOMPAS.com- Presiden Human Initiative Tomy Hendrajati menyebutkan, hampir 300 juta jiwa di dunia membutuhkanbantuan kemanusiaanserta perlindungan akibat konflik,krisis iklim, dan dinamika ekonomi yang saling tumpang tindih.Hal tersebut merujuk pada Global Humanitarian Overview (GHO) 2024, laporan tahunan yang dikeluarkan Kantor PBB untuk Koordinasi Urusan Kemanusiaan atau United Nations Office for the Coordination of Humanitarian Affairs (OCHA).\\u201cIsu kemanusiaan adalah hal yang akan terus melekat pada setiap generasi selama peradaban manusia masih ada,\\u201d ungkap Tomy dalam \\\"Initiative Forum 2024\\\" di Hotel Bidakara, Menteng Dalam, Tebet, Jakarta Selatan, Selasa (30/10/2024).Baca juga:Polemik Donasi untuk Agus Salim, Bantuan Kemanusiaan yang DikhianatiMelalui Initiative Forum: Collective Kindness, Tomy mengajak seluruh pelaku kemanusiaan untuk bersama-sama mengatasi masalah isu kemanusiaan di Indonesia dengan semangat kolaboratif.\\u201cPesan kunci yang ingin disampaikan Human Initiative adalah Collective Kindness, yang sarat akan makna gerakan kebaikan melalui aksi bersama dan kemitraan multipihak,\\u201d ujar Tomy.Ia juga mencatat bahwa di Indonesia, masih ada 4 juta anak yang tidak memiliki akses terhadap pendidikan yang layak, 25,22 juta jiwa keluarga berada di bawah garis kemiskinan, dan 406.525 jiwa menjadi penyintas bencana.Tomy menambahkan bahwa Initiative Forum dirancang untuk memperkuat kolaborasi melalui sesi Exposure, Insight, Award, dan Connect, melibatkan berbagai aktor kemanusiaan lokal, nasional, dan global, untuk membangun ketangguhan berkelanjutan di masyarakat.Baca juga:DPRD Kota Bogor Kritik Minimnya Serapan Anggaran BTT meski Terjadi 85 BencanaDalam kesempatan yang sama, Menteri Koordinator Pemberdayaan Masyarakat, Abdul Muhaimin Iskandar atau Cak Imin, menegaskan pentingnya kolaborasi dalam mewujudkan amanat konstitusi terkait pembangunan nasional.\\u201cPemerintah tentu tidak mungkin berjalan sendiri. Dalam konteks ini, kehadiran Human Initiative ini menjadi harapan untuk kita bersama-sama mewujudkan amanat konstitusi kita,\\u201d kata Cak Imin.Ia menekankan bahwa langkah ini selaras dengan Pasal 34 Ayat 1 Undang-Undang Dasar (UUD) 1945 yang mengatur kewajiban negara dalam perlindungan masyarakat tidak mampu, termasuk fakir miskin dan anak-anak terlantar.\\u201cOleh karena itu, menurut dia, kerja sama dengan berbagai pihak adalah kunci. Setiap pihak harus diajak dan digerakkan bersama-sama agar menjadi subjek bagi pengentasan masalah kemanusiaan. Di sinilah butuh pemberdayaan masyarakat, yakni partisipasi dan melibatkan seluruh kelompok masyarakat,\\u201d tegas Cak Imin.Simakbreaking newsdanberita pilihankami langsung di ponselmu. Pilih saluran andalanmu akses berita Kompas.com WhatsApp Channel :https://www.whatsapp.com/channel/0029VaFPbedBPzjZrk13HO3D. Pastikan kamu sudah install aplikasi WhatsApp ya.\",\n          \"JAKARTA, KOMPAS.com- Kepala Staf Kepresidenan (KSP)AM Putrantomenyatakan, para menteri dan pejabat eselon I diwajibkan untuk menggunakanmobil MaungbuataPT Pindadsebagai mobil dinas mereka.\\u201cSemuanya (menteri), eselon 1 bahkan (juga diwajibkan memakai Maung),\\u201d ujar Putranto di Kompleks Parlemen, Jakarta, Rabu (30/10/2024).Putranto menyebutkan, pemerintah berencana memproduksi 10.000 Maung buatan Pindad untuk memenuhi kebutuhan mobil dinas.Namun, ia mengatakan, jumlah mobil yang dapat diproduksi selama beberapa bulan ke depan baru mencapai 50 persen.Baca juga:Spesifikasi dan Harga Maung yang Jadi Contoh Mobil Dinas Menteri-Pejabat Pemerintahan Prabowo\\u201cUntuk program 10.000 (Maung) ke depan, untuk yang 100 hari kerja diharapkan 5.000 sekian dan itu akan berlanjut,\\u201d ujar Putranto.Ia menambahkan,\\u00a0Maung bakal diprioritaskan lebih dulu untuk pemerintah pusat.Putranto belum mengetahui apakah nantinya pemerintah daerah juga diwajibkan menggunakan fasilitas tersebut sebagai mobil dinas.\\u201cPrioritas di sini (pemerintah pusat), nanti kalau dibagi semua kan enggak kebagian. Kalau (produksi) 10.000 artinya kan diprioritaskan (di pemerintah pusat),\\u201d kata dia.Baca juga:Istana Ungkap Alasan Menteri Harus Pakai Maung: Prabowo Bangga Produksi PindadKepala Kantor Komunikasi Kepresidenan Hasan Nasbi menyatakan, mobil Maung dipilih sebagai mobil dinas para menteri sebagai bentuk kebanggaan terhadap produk dalam negeri.\\\"(Alasannya) Pak Prabowo kan menggunakan itu sebagai mobil kepresidenan. Dan beliau bangga dengan produksi Pindad,\\\" kata Hasan Nasbi di Kompleks Istana Kepresidenan, Jakarta Pusat, Rabu.Sebelumnya, para menteri memakai mobil dinas bermacam-macam, salah satunya mobil produksi jepang, Toyota Crown 2.5 HV G-Executive.Simakbreaking newsdanberita pilihankami langsung di ponselmu. Pilih saluran andalanmu akses berita Kompas.com WhatsApp Channel :https://www.whatsapp.com/channel/0029VaFPbedBPzjZrk13HO3D. Pastikan kamu sudah install aplikasi WhatsApp ya.\"\n        ],\n        \"semantic_type\": \"\",\n        \"description\": \"\"\n      }\n    },\n    {\n      \"column\": \"teks_clean\",\n      \"properties\": {\n        \"dtype\": \"string\",\n        \"num_unique_values\": 5,\n        \"samples\": [\n          \"jakarta kompascom menteri agraria dan tata ruangkepala badan pertanahan nasional atrbpn nusron wahid akan menyiapkan sanksi denda bagi badan hukum pengelola kelapa sawit yang tidak memiliki hak guna usaha hgumenurut nusron nilai denda tersebut sedang dihitung oleh badan pengawasan keuangan dan pembangunan bpkpsedangkan kasus hukumnya akan diserahkan ke kejaksaan agung kejagungsoal sanksinya itu nanti sedang dihitung sanksinya dendanya sedang dihitung oleh bpkp soal masalah hukumnya itu nanti menjadi ranahnya pak jaksa agung kata nusron di kompleks parlemen jakarta rabu baca jugamenteri nusron ungkap badan pengelola sawit tak punya hgu sejak nusron menambahkan kementerian atrbpn juga sedang melakukan evaluasi untuk menertibkan dan menyelesaikan penerbitan hgu dari ratusan perusahaan inikami saat ini sedang menertibkan dan mengevaluasi menahan dulu sementara proses pengajuan pendaftaran maupun penerbitan hgunya karena menurut ketentuan masalah ini harus selesai pada tanggal desember ujar nusronadapun sebanyak badan pengelola kelapa sawit itu tidak memiliki hgu sejak tahun ratusan badan tersebut tidak memiliki hgu namun memiliki izin usaha perkebunan iup kelapa sawitnusron menjelaskan pada mahkamah konstitusi mk menerbitkan putusan yang mewajibkan suatu badan pengelola sawit memiliki iup dan hgu padahal aturan sebelumnya hanya memperbolehkan salah satunya sajaberarti yang boleh menanam harus punya hgu dan punya iup nah berarti selama tahun ada yang tidak mengurus hgunya ya kan nah ini yang mau kita tertibkan ujar nusronbaca jugaderita buruh sawit perempuan di tengah krisis iklim dari keguguran hingga nyaris butanusron mengungkapkan ini dalam rapat komisi ii dpr kompleks parlemen jakarta selasa jika ditotal jumlahnya ada juta hektare lahan sawit yang tidak memiliki hgu sejak ada badan hukum dari bulan oktober sampai sekarang ada yang menanam kepala sawit punya iup tapi tidak punya hgu kata nusron dalam rapatnusron menegaskan akan menertibkan dan menyelesaikan pendaftaran dan penerbitan sertifikat hgu untuk badan hukum yang sudah mempunyai izin usaha perkebunan kelapa sawitini yang mau kita tertibkan dalam hari ini harus tuntas kalau di total jumlahnya berapa jumlahnya ada juta hektare ini yang apl area penggunaan lain bukan di kawasan hutan ucapnyasimakbreaking newsdanberita pilihankami langsung di ponselmu pilih saluran andalanmu akses berita kompascom whatsapp channel pastikan kamu sudah install aplikasi whatsapp ya\",\n          \"jakarta kompascom presiden human initiative tomy hendrajati menyebutkan hampir juta jiwa di dunia membutuhkanbantuan kemanusiaanserta perlindungan akibat konflikkrisis iklim dan dinamika ekonomi yang saling tumpang tindihhal tersebut merujuk pada global humanitarian overview gho laporan tahunan yang dikeluarkan kantor pbb untuk koordinasi urusan kemanusiaan atau united nations office for the coordination of humanitarian affairs ochaisu kemanusiaan adalah hal yang akan terus melekat pada setiap generasi selama peradaban manusia masih ada ungkap tomy dalam initiative forum di hotel bidakara menteng dalam tebet jakarta selatan selasa baca jugapolemik donasi untuk agus salim bantuan kemanusiaan yang dikhianatimelalui initiative forum collective kindness tomy mengajak seluruh pelaku kemanusiaan untuk bersamasama mengatasi masalah isu kemanusiaan di indonesia dengan semangat kolaboratifpesan kunci yang ingin disampaikan human initiative adalah collective kindness yang sarat akan makna gerakan kebaikan melalui aksi bersama dan kemitraan multipihak ujar tomyia juga mencatat bahwa di indonesia masih ada juta anak yang tidak memiliki akses terhadap pendidikan yang layak juta jiwa keluarga berada di bawah garis kemiskinan dan jiwa menjadi penyintas bencanatomy menambahkan bahwa initiative forum dirancang untuk memperkuat kolaborasi melalui sesi exposure insight award dan connect melibatkan berbagai aktor kemanusiaan lokal nasional dan global untuk membangun ketangguhan berkelanjutan di masyarakatbaca jugadprd kota bogor kritik minimnya serapan anggaran btt meski terjadi bencanadalam kesempatan yang sama menteri koordinator pemberdayaan masyarakat abdul muhaimin iskandar atau cak imin menegaskan pentingnya kolaborasi dalam mewujudkan amanat konstitusi terkait pembangunan nasionalpemerintah tentu tidak mungkin berjalan sendiri dalam konteks ini kehadiran human initiative ini menjadi harapan untuk kita bersamasama mewujudkan amanat konstitusi kita kata cak iminia menekankan bahwa langkah ini selaras dengan pasal ayat undangundang dasar uud yang mengatur kewajiban negara dalam perlindungan masyarakat tidak mampu termasuk fakir miskin dan anakanak terlantaroleh karena itu menurut dia kerja sama dengan berbagai pihak adalah kunci setiap pihak harus diajak dan digerakkan bersamasama agar menjadi subjek bagi pengentasan masalah kemanusiaan di sinilah butuh pemberdayaan masyarakat yakni partisipasi dan melibatkan seluruh kelompok masyarakat tegas cak iminsimakbreaking newsdanberita pilihankami langsung di ponselmu pilih saluran andalanmu akses berita kompascom whatsapp channel pastikan kamu sudah install aplikasi whatsapp ya\",\n          \"jakarta kompascom kepala staf kepresidenan kspam putrantomenyatakan para menteri dan pejabat eselon i diwajibkan untuk menggunakanmobil maungbuatapt pindadsebagai mobil dinas merekasemuanya menteri eselon bahkan juga diwajibkan memakai maung ujar putranto di kompleks parlemen jakarta rabu putranto menyebutkan pemerintah berencana memproduksi maung buatan pindad untuk memenuhi kebutuhan mobil dinasnamun ia mengatakan jumlah mobil yang dapat diproduksi selama beberapa bulan ke depan baru mencapai persenbaca jugaspesifikasi dan harga maung yang jadi contoh mobil dinas menteripejabat pemerintahan prabowountuk program maung ke depan untuk yang hari kerja diharapkan sekian dan itu akan berlanjut ujar putrantoia menambahkan maung bakal diprioritaskan lebih dulu untuk pemerintah pusatputranto belum mengetahui apakah nantinya pemerintah daerah juga diwajibkan menggunakan fasilitas tersebut sebagai mobil dinasprioritas di sini pemerintah pusat nanti kalau dibagi semua kan enggak kebagian kalau produksi artinya kan diprioritaskan di pemerintah pusat kata diabaca jugaistana ungkap alasan menteri harus pakai maung prabowo bangga produksi pindadkepala kantor komunikasi kepresidenan hasan nasbi menyatakan mobil maung dipilih sebagai mobil dinas para menteri sebagai bentuk kebanggaan terhadap produk dalam negerialasannya pak prabowo kan menggunakan itu sebagai mobil kepresidenan dan beliau bangga dengan produksi pindad kata hasan nasbi di kompleks istana kepresidenan jakarta pusat rabusebelumnya para menteri memakai mobil dinas bermacammacam salah satunya mobil produksi jepang toyota crown hv gexecutivesimakbreaking newsdanberita pilihankami langsung di ponselmu pilih saluran andalanmu akses berita kompascom whatsapp channel pastikan kamu sudah install aplikasi whatsapp ya\"\n        ],\n        \"semantic_type\": \"\",\n        \"description\": \"\"\n      }\n    }\n  ]\n}"
            }
          },
          "metadata": {},
          "execution_count": 40
        }
      ]
    },
    {
      "cell_type": "code",
      "source": [
        "from imblearn.over_sampling import SMOTE\n",
        "from sklearn.feature_extraction.text import TfidfVectorizer\n",
        "\n",
        "# Contoh pakai TF-IDF buat vektor teks\n",
        "tfidf = TfidfVectorizer(max_features=5000)\n",
        "X_tfidf = tfidf.fit_transform(df['teks_clean'])\n",
        "y = df['label_enc']\n",
        "\n",
        "# Oversampling dengan SMOTE\n",
        "smote = SMOTE(random_state=42)\n",
        "X_resampled, y_resampled = smote.fit_resample(X_tfidf, y)\n",
        "\n",
        "# Cek distribusi baru\n",
        "from collections import Counter\n",
        "print(Counter(y_resampled))\n"
      ],
      "metadata": {
        "colab": {
          "base_uri": "https://localhost:8080/"
        },
        "id": "6mOb-BVVWH5h",
        "outputId": "d67ef3f0-3817-45fb-ccc0-59003fcbfe37"
      },
      "execution_count": 41,
      "outputs": [
        {
          "output_type": "stream",
          "name": "stdout",
          "text": [
            "Counter({0: 500, 1: 500})\n"
          ]
        }
      ]
    },
    {
      "cell_type": "code",
      "source": [
        "df.info()\n",
        "df.isnull().sum()"
      ],
      "metadata": {
        "colab": {
          "base_uri": "https://localhost:8080/",
          "height": 400
        },
        "id": "HXrgYt4sW0aF",
        "outputId": "1b0542d4-3657-48c6-f7ca-e75020a4b9bd"
      },
      "execution_count": 42,
      "outputs": [
        {
          "output_type": "stream",
          "name": "stdout",
          "text": [
            "<class 'pandas.core.frame.DataFrame'>\n",
            "RangeIndex: 995 entries, 0 to 994\n",
            "Data columns (total 4 columns):\n",
            " #   Column      Non-Null Count  Dtype \n",
            "---  ------      --------------  ----- \n",
            " 0   teks        995 non-null    object\n",
            " 1   label       995 non-null    object\n",
            " 2   label_enc   995 non-null    int64 \n",
            " 3   teks_clean  995 non-null    object\n",
            "dtypes: int64(1), object(3)\n",
            "memory usage: 31.2+ KB\n"
          ]
        },
        {
          "output_type": "execute_result",
          "data": {
            "text/plain": [
              "teks          0\n",
              "label         0\n",
              "label_enc     0\n",
              "teks_clean    0\n",
              "dtype: int64"
            ],
            "text/html": [
              "<div>\n",
              "<style scoped>\n",
              "    .dataframe tbody tr th:only-of-type {\n",
              "        vertical-align: middle;\n",
              "    }\n",
              "\n",
              "    .dataframe tbody tr th {\n",
              "        vertical-align: top;\n",
              "    }\n",
              "\n",
              "    .dataframe thead th {\n",
              "        text-align: right;\n",
              "    }\n",
              "</style>\n",
              "<table border=\"1\" class=\"dataframe\">\n",
              "  <thead>\n",
              "    <tr style=\"text-align: right;\">\n",
              "      <th></th>\n",
              "      <th>0</th>\n",
              "    </tr>\n",
              "  </thead>\n",
              "  <tbody>\n",
              "    <tr>\n",
              "      <th>teks</th>\n",
              "      <td>0</td>\n",
              "    </tr>\n",
              "    <tr>\n",
              "      <th>label</th>\n",
              "      <td>0</td>\n",
              "    </tr>\n",
              "    <tr>\n",
              "      <th>label_enc</th>\n",
              "      <td>0</td>\n",
              "    </tr>\n",
              "    <tr>\n",
              "      <th>teks_clean</th>\n",
              "      <td>0</td>\n",
              "    </tr>\n",
              "  </tbody>\n",
              "</table>\n",
              "</div><br><label><b>dtype:</b> int64</label>"
            ]
          },
          "metadata": {},
          "execution_count": 42
        }
      ]
    },
    {
      "cell_type": "code",
      "source": [
        "df['label'].value_counts()\n",
        "df['label'].value_counts(normalize=True) * 100"
      ],
      "metadata": {
        "colab": {
          "base_uri": "https://localhost:8080/",
          "height": 178
        },
        "id": "jfnhqmcQX375",
        "outputId": "2e50c23d-11ec-4600-cacd-95378b7ea973"
      },
      "execution_count": 43,
      "outputs": [
        {
          "output_type": "execute_result",
          "data": {
            "text/plain": [
              "label\n",
              "hoax     50.251256\n",
              "valid    49.748744\n",
              "Name: proportion, dtype: float64"
            ],
            "text/html": [
              "<div>\n",
              "<style scoped>\n",
              "    .dataframe tbody tr th:only-of-type {\n",
              "        vertical-align: middle;\n",
              "    }\n",
              "\n",
              "    .dataframe tbody tr th {\n",
              "        vertical-align: top;\n",
              "    }\n",
              "\n",
              "    .dataframe thead th {\n",
              "        text-align: right;\n",
              "    }\n",
              "</style>\n",
              "<table border=\"1\" class=\"dataframe\">\n",
              "  <thead>\n",
              "    <tr style=\"text-align: right;\">\n",
              "      <th></th>\n",
              "      <th>proportion</th>\n",
              "    </tr>\n",
              "    <tr>\n",
              "      <th>label</th>\n",
              "      <th></th>\n",
              "    </tr>\n",
              "  </thead>\n",
              "  <tbody>\n",
              "    <tr>\n",
              "      <th>hoax</th>\n",
              "      <td>50.251256</td>\n",
              "    </tr>\n",
              "    <tr>\n",
              "      <th>valid</th>\n",
              "      <td>49.748744</td>\n",
              "    </tr>\n",
              "  </tbody>\n",
              "</table>\n",
              "</div><br><label><b>dtype:</b> float64</label>"
            ]
          },
          "metadata": {},
          "execution_count": 43
        }
      ]
    },
    {
      "cell_type": "code",
      "source": [
        "import seaborn as sns\n",
        "import matplotlib.pyplot as plt\n",
        "\n",
        "sns.countplot(data=df, x='label')\n",
        "plt.title(\"Distribusi Kelas Berita\")\n",
        "plt.xlabel(\"Label\")\n",
        "plt.ylabel(\"Jumlah\")\n",
        "plt.show()"
      ],
      "metadata": {
        "colab": {
          "base_uri": "https://localhost:8080/",
          "height": 472
        },
        "id": "w17ovIVIYmzI",
        "outputId": "460b34ed-1545-4fce-8882-9cc94c00b1ad"
      },
      "execution_count": 44,
      "outputs": [
        {
          "output_type": "display_data",
          "data": {
            "text/plain": [
              "<Figure size 640x480 with 1 Axes>"
            ],
            "image/png": "[encoded data removed]"
          },
          "metadata": {}
        }
      ]
    },
    {
      "cell_type": "code",
      "source": [
        "df['panjang_karakter'] = df['teks'].apply(len)\n",
        "df['jumlah_kata'] = df['teks'].apply(lambda x: len(str(x).split()))\n",
        "df[['panjang_karakter', 'jumlah_kata']].describe()"
      ],
      "metadata": {
        "colab": {
          "base_uri": "https://localhost:8080/",
          "height": 300
        },
        "id": "vsgKgA2GZUGi",
        "outputId": "736b70ae-4426-46d6-ad5c-4c3c60eb4f26"
      },
      "execution_count": 45,
      "outputs": [
        {
          "output_type": "execute_result",
          "data": {
            "text/plain": [
              "       panjang_karakter  jumlah_kata\n",
              "count        995.000000   995.000000\n",
              "mean        2225.472362   272.377889\n",
              "std          643.997636    87.938816\n",
              "min           22.000000     3.000000\n",
              "25%         1761.000000   206.000000\n",
              "50%         2157.000000   265.000000\n",
              "75%         2609.500000   332.000000\n",
              "max         5154.000000   666.000000"
            ],
            "text/html": [
              "\n",
              "  <div id=\"df-0da055c9-4af2-490d-baf2-9f15c1ad9112\" class=\"colab-df-container\">\n",
              "    <div>\n",
              "<style scoped>\n",
              "    .dataframe tbody tr th:only-of-type {\n",
              "        vertical-align: middle;\n",
              "    }\n",
              "\n",
              "    .dataframe tbody tr th {\n",
              "        vertical-align: top;\n",
              "    }\n",
              "\n",
              "    .dataframe thead th {\n",
              "        text-align: right;\n",
              "    }\n",
              "</style>\n",
              "<table border=\"1\" class=\"dataframe\">\n",
              "  <thead>\n",
              "    <tr style=\"text-align: right;\">\n",
              "      <th></th>\n",
              "      <th>panjang_karakter</th>\n",
              "      <th>jumlah_kata</th>\n",
              "    </tr>\n",
              "  </thead>\n",
              "  <tbody>\n",
              "    <tr>\n",
              "      <th>count</th>\n",
              "      <td>995.000000</td>\n",
              "      <td>995.000000</td>\n",
              "    </tr>\n",
              "    <tr>\n",
              "      <th>mean</th>\n",
              "      <td>2225.472362</td>\n",
              "      <td>272.377889</td>\n",
              "    </tr>\n",
              "    <tr>\n",
              "      <th>std</th>\n",
              "      <td>643.997636</td>\n",
              "      <td>87.938816</td>\n",
              "    </tr>\n",
              "    <tr>\n",
              "      <th>min</th>\n",
              "      <td>22.000000</td>\n",
              "      <td>3.000000</td>\n",
              "    </tr>\n",
              "    <tr>\n",
              "      <th>25%</th>\n",
              "      <td>1761.000000</td>\n",
              "      <td>206.000000</td>\n",
              "    </tr>\n",
              "    <tr>\n",
              "      <th>50%</th>\n",
              "      <td>2157.000000</td>\n",
              "      <td>265.000000</td>\n",
              "    </tr>\n",
              "    <tr>\n",
              "      <th>75%</th>\n",
              "      <td>2609.500000</td>\n",
              "      <td>332.000000</td>\n",
              "    </tr>\n",
              "    <tr>\n",
              "      <th>max</th>\n",
              "      <td>5154.000000</td>\n",
              "      <td>666.000000</td>\n",
              "    </tr>\n",
              "  </tbody>\n",
              "</table>\n",
              "</div>\n",
              "    <div class=\"colab-df-buttons\">\n",
              "\n",
              "  <div class=\"colab-df-container\">\n",
              "    <button class=\"colab-df-convert\" onclick=\"convertToInteractive('df-0da055c9-4af2-490d-baf2-9f15c1ad9112')\"\n",
              "            title=\"Convert this dataframe to an interactive table.\"\n",
              "            style=\"display:none;\">\n",
              "\n",
              "  <svg xmlns=\"http://www.w3.org/2000/svg\" height=\"24px\" viewBox=\"0 -960 960 960\">\n",
              "    <path d=\"M120-120v-720h720v720H120Zm60-500h600v-160H180v160Zm220 220h160v-160H400v160Zm0 220h160v-160H400v160ZM180-400h160v-160H180v160Zm440 0h160v-160H620v160ZM180-180h160v-160H180v160Zm440 0h160v-160H620v160Z\"/>\n",
              "  </svg>\n",
              "    </button>\n",
              "\n",
              "  <style>\n",
              "    .colab-df-container {\n",
              "      display:flex;\n",
              "      gap: 12px;\n",
              "    }\n",
              "\n",
              "    .colab-df-convert {\n",
              "      background-color: #E8F0FE;\n",
              "      border: none;\n",
              "      border-radius: 50%;\n",
              "      cursor: pointer;\n",
              "      display: none;\n",
              "      fill: #1967D2;\n",
              "      height: 32px;\n",
              "      padding: 0 0 0 0;\n",
              "      width: 32px;\n",
              "    }\n",
              "\n",
              "    .colab-df-convert:hover {\n",
              "      background-color: #E2EBFA;\n",
              "      box-shadow: 0px 1px 2px rgba(60, 64, 67, 0.3), 0px 1px 3px 1px rgba(60, 64, 67, 0.15);\n",
              "      fill: #174EA6;\n",
              "    }\n",
              "\n",
              "    .colab-df-buttons div {\n",
              "      margin-bottom: 4px;\n",
              "    }\n",
              "\n",
              "    [theme=dark] .colab-df-convert {\n",
              "      background-color: #3B4455;\n",
              "      fill: #D2E3FC;\n",
              "    }\n",
              "\n",
              "    [theme=dark] .colab-df-convert:hover {\n",
              "      background-color: #434B5C;\n",
              "      box-shadow: 0px 1px 3px 1px rgba(0, 0, 0, 0.15);\n",
              "      filter: drop-shadow(0px 1px 2px rgba(0, 0, 0, 0.3));\n",
              "      fill: #FFFFFF;\n",
              "    }\n",
              "  </style>\n",
              "\n",
              "    <script>\n",
              "      const buttonEl =\n",
              "        document.querySelector('#df-0da055c9-4af2-490d-baf2-9f15c1ad9112 button.colab-df-convert');\n",
              "      buttonEl.style.display =\n",
              "        google.colab.kernel.accessAllowed ? 'block' : 'none';\n",
              "\n",
              "      async function convertToInteractive(key) {\n",
              "        const element = document.querySelector('#df-0da055c9-4af2-490d-baf2-9f15c1ad9112');\n",
              "        const dataTable =\n",
              "          await google.colab.kernel.invokeFunction('convertToInteractive',\n",
              "                                                    [key], {});\n",
              "        if (!dataTable) return;\n",
              "\n",
              "        const docLinkHtml = 'Like what you see? Visit the ' +\n",
              "          '<a target=\"_blank\" href=https://colab.research.google.com/notebooks/data_table.ipynb>data table notebook</a>'\n",
              "          + ' to learn more about interactive tables.';\n",
              "        element.innerHTML = '';\n",
              "        dataTable['output_type'] = 'display_data';\n",
              "        await google.colab.output.renderOutput(dataTable, element);\n",
              "        const docLink = document.createElement('div');\n",
              "        docLink.innerHTML = docLinkHtml;\n",
              "        element.appendChild(docLink);\n",
              "      }\n",
              "    </script>\n",
              "  </div>\n",
              "\n",
              "\n",
              "    <div id=\"df-9c805d7a-30fc-4b8e-9bc7-97a3399139ef\">\n",
              "      <button class=\"colab-df-quickchart\" onclick=\"quickchart('df-9c805d7a-30fc-4b8e-9bc7-97a3399139ef')\"\n",
              "                title=\"Suggest charts\"\n",
              "                style=\"display:none;\">\n",
              "\n",
              "<svg xmlns=\"http://www.w3.org/2000/svg\" height=\"24px\"viewBox=\"0 0 24 24\"\n",
              "     width=\"24px\">\n",
              "    <g>\n",
              "        <path d=\"M19 3H5c-1.1 0-2 .9-2 2v14c0 1.1.9 2 2 2h14c1.1 0 2-.9 2-2V5c0-1.1-.9-2-2-2zM9 17H7v-7h2v7zm4 0h-2V7h2v10zm4 0h-2v-4h2v4z\"/>\n",
              "    </g>\n",
              "</svg>\n",
              "      </button>\n",
              "\n",
              "<style>\n",
              "  .colab-df-quickchart {\n",
              "      --bg-color: #E8F0FE;\n",
              "      --fill-color: #1967D2;\n",
              "      --hover-bg-color: #E2EBFA;\n",
              "      --hover-fill-color: #174EA6;\n",
              "      --disabled-fill-color: #AAA;\n",
              "      --disabled-bg-color: #DDD;\n",
              "  }\n",
              "\n",
              "  [theme=dark] .colab-df-quickchart {\n",
              "      --bg-color: #3B4455;\n",
              "      --fill-color: #D2E3FC;\n",
              "      --hover-bg-color: #434B5C;\n",
              "      --hover-fill-color: #FFFFFF;\n",
              "      --disabled-bg-color: #3B4455;\n",
              "      --disabled-fill-color: #666;\n",
              "  }\n",
              "\n",
              "  .colab-df-quickchart {\n",
              "    background-color: var(--bg-color);\n",
              "    border: none;\n",
              "    border-radius: 50%;\n",
              "    cursor: pointer;\n",
              "    display: none;\n",
              "    fill: var(--fill-color);\n",
              "    height: 32px;\n",
              "    padding: 0;\n",
              "    width: 32px;\n",
              "  }\n",
              "\n",
              "  .colab-df-quickchart:hover {\n",
              "    background-color: var(--hover-bg-color);\n",
              "    box-shadow: 0 1px 2px rgba(60, 64, 67, 0.3), 0 1px 3px 1px rgba(60, 64, 67, 0.15);\n",
              "    fill: var(--button-hover-fill-color);\n",
              "  }\n",
              "\n",
              "  .colab-df-quickchart-complete:disabled,\n",
              "  .colab-df-quickchart-complete:disabled:hover {\n",
              "    background-color: var(--disabled-bg-color);\n",
              "    fill: var(--disabled-fill-color);\n",
              "    box-shadow: none;\n",
              "  }\n",
              "\n",
              "  .colab-df-spinner {\n",
              "    border: 2px solid var(--fill-color);\n",
              "    border-color: transparent;\n",
              "    border-bottom-color: var(--fill-color);\n",
              "    animation:\n",
              "      spin 1s steps(1) infinite;\n",
              "  }\n",
              "\n",
              "  @keyframes spin {\n",
              "    0% {\n",
              "      border-color: transparent;\n",
              "      border-bottom-color: var(--fill-color);\n",
              "      border-left-color: var(--fill-color);\n",
              "    }\n",
              "    20% {\n",
              "      border-color: transparent;\n",
              "      border-left-color: var(--fill-color);\n",
              "      border-top-color: var(--fill-color);\n",
              "    }\n",
              "    30% {\n",
              "      border-color: transparent;\n",
              "      border-left-color: var(--fill-color);\n",
              "      border-top-color: var(--fill-color);\n",
              "      border-right-color: var(--fill-color);\n",
              "    }\n",
              "    40% {\n",
              "      border-color: transparent;\n",
              "      border-right-color: var(--fill-color);\n",
              "      border-top-color: var(--fill-color);\n",
              "    }\n",
              "    60% {\n",
              "      border-color: transparent;\n",
              "      border-right-color: var(--fill-color);\n",
              "    }\n",
              "    80% {\n",
              "      border-color: transparent;\n",
              "      border-right-color: var(--fill-color);\n",
              "      border-bottom-color: var(--fill-color);\n",
              "    }\n",
              "    90% {\n",
              "      border-color: transparent;\n",
              "      border-bottom-color: var(--fill-color);\n",
              "    }\n",
              "  }\n",
              "</style>\n",
              "\n",
              "      <script>\n",
              "        async function quickchart(key) {\n",
              "          const quickchartButtonEl =\n",
              "            document.querySelector('#' + key + ' button');\n",
              "          quickchartButtonEl.disabled = true;  // To prevent multiple clicks.\n",
              "          quickchartButtonEl.classList.add('colab-df-spinner');\n",
              "          try {\n",
              "            const charts = await google.colab.kernel.invokeFunction(\n",
              "                'suggestCharts', [key], {});\n",
              "          } catch (error) {\n",
              "            console.error('Error during call to suggestCharts:', error);\n",
              "          }\n",
              "          quickchartButtonEl.classList.remove('colab-df-spinner');\n",
              "          quickchartButtonEl.classList.add('colab-df-quickchart-complete');\n",
              "        }\n",
              "        (() => {\n",
              "          let quickchartButtonEl =\n",
              "            document.querySelector('#df-9c805d7a-30fc-4b8e-9bc7-97a3399139ef button');\n",
              "          quickchartButtonEl.style.display =\n",
              "            google.colab.kernel.accessAllowed ? 'block' : 'none';\n",
              "        })();\n",
              "      </script>\n",
              "    </div>\n",
              "\n",
              "    </div>\n",
              "  </div>\n"
            ],
            "application/vnd.google.colaboratory.intrinsic+json": {
              "type": "dataframe",
              "summary": "{\n  \"name\": \"df[['panjang_karakter', 'jumlah_kata']]\",\n  \"rows\": 8,\n  \"fields\": [\n    {\n      \"column\": \"panjang_karakter\",\n      \"properties\": {\n        \"dtype\": \"number\",\n        \"std\": 1567.0597675560982,\n        \"min\": 22.0,\n        \"max\": 5154.0,\n        \"num_unique_values\": 8,\n        \"samples\": [\n          2225.472361809045,\n          2157.0,\n          995.0\n        ],\n        \"semantic_type\": \"\",\n        \"description\": \"\"\n      }\n    },\n    {\n      \"column\": \"jumlah_kata\",\n      \"properties\": {\n        \"dtype\": \"number\",\n        \"std\": 324.9577952836138,\n        \"min\": 3.0,\n        \"max\": 995.0,\n        \"num_unique_values\": 8,\n        \"samples\": [\n          272.37788944723616,\n          265.0,\n          995.0\n        ],\n        \"semantic_type\": \"\",\n        \"description\": \"\"\n      }\n    }\n  ]\n}"
            }
          },
          "metadata": {},
          "execution_count": 45
        }
      ]
    },
    {
      "cell_type": "code",
      "source": [
        "from transformers import BertTokenizer\n",
        "\n",
        "tokenizer = BertTokenizer.from_pretrained('indobenchmark/indobert-base-p1')\n",
        "\n",
        "# Tokenisasi teks\n",
        "tokenized = tokenizer(\n",
        "    list(df['teks']),\n",
        "    padding='max_length',\n",
        "    truncation=True,\n",
        "    max_length=512,\n",
        "    return_tensors='pt'\n",
        ")"
      ],
      "metadata": {
        "id": "TW2hqVyLog2_"
      },
      "execution_count": 46,
      "outputs": []
    },
    {
      "cell_type": "code",
      "source": [
        "from sklearn.preprocessing import LabelEncoder\n",
        "\n",
        "le = LabelEncoder()\n",
        "df['label_enc'] = le.fit_transform(df['label'])  # hoax → 1, valid → 0"
      ],
      "metadata": {
        "id": "SOg8d7TYpVAK"
      },
      "execution_count": 47,
      "outputs": []
    },
    {
      "cell_type": "code",
      "source": [
        "class IndoBERT_CNN_LSTM(nn.Module):\n",
        "    def __init__(self):\n",
        "        super().__init__()\n",
        "        self.bert = BertModel.from_pretrained('indobenchmark/indobert-base-p1')\n",
        "        self.conv1 = nn.Conv1d(768, 128, kernel_size=3, padding=1)\n",
        "        self.lstm = nn.LSTM(128, 64, batch_first=True)\n",
        "        self.fc = nn.Linear(64, 2)\n",
        "\n",
        "    def forward(self, input_ids, attention_mask):\n",
        "        with torch.no_grad():  # IndoBERT digunakan sebagai feature extractor\n",
        "            outputs = self.bert(input_ids=input_ids, attention_mask=attention_mask)\n",
        "        x = outputs.last_hidden_state\n",
        "        x = x.permute(0, 2, 1)  # CNN butuh format (batch, channels, seq)\n",
        "        x = self.conv1(x)\n",
        "        x = x.permute(0, 2, 1)  # LSTM butuh (batch, seq, channels)\n",
        "        _, (h_n, _) = self.lstm(x)\n",
        "        logits = self.fc(h_n.squeeze(0))\n",
        "        return logits"
      ],
      "metadata": {
        "id": "2zjmfW9er_cF"
      },
      "execution_count": 48,
      "outputs": []
    },
    {
      "cell_type": "code",
      "source": [
        "import matplotlib.pyplot as plt\n",
        "import seaborn as sns\n",
        "\n",
        "plt.figure(figsize=(10, 6))\n",
        "sns.histplot(df['panjang_karakter'], bins=30, kde=True, color='skyblue')\n",
        "plt.title(\"Distribusi Panjang Karakter Berita\")\n",
        "plt.xlabel(\"Jumlah Karakter\")\n",
        "plt.ylabel(\"Jumlah Berita\")\n",
        "plt.grid(True)\n",
        "plt.show()\n"
      ],
      "metadata": {
        "colab": {
          "base_uri": "https://localhost:8080/",
          "height": 422
        },
        "id": "3_wmcNT65V-I",
        "outputId": "47e926f3-7545-4275-a083-027a17f360fa"
      },
      "execution_count": 49,
      "outputs": [
        {
          "output_type": "display_data",
          "data": {
            "text/plain": [
              "<Figure size 1000x600 with 1 Axes>"
            ],
            "image/png": "[encoded data removed]"
          },
          "metadata": {}
        }
      ]
    },
    {
      "cell_type": "code",
      "source": [
        "from sklearn.feature_extraction.text import TfidfVectorizer\n",
        "from imblearn.over_sampling import SMOTE, ADASYN\n",
        "from collections import Counter\n",
        "\n",
        "# TF-IDF vektorisasi teks\n",
        "vectorizer = TfidfVectorizer(max_features=5000)\n",
        "X_tfidf = vectorizer.fit_transform(df['teks_clean'])  # gunakan teks hasil cleaning\n",
        "y = df['label_enc']\n",
        "\n",
        "# Oversampling dengan SMOTE\n",
        "smote = SMOTE(random_state=42)\n",
        "X_resampled, y_resampled = smote.fit_resample(X_tfidf, y)\n",
        "\n",
        "print(\"Distribusi label setelah SMOTE:\", Counter(y_resampled))\n",
        "\n",
        "# atau bisa coba ADASYN:\n",
        "# adasyn = ADASYN(random_state=42)\n",
        "# X_resampled, y_resampled = adasyn.fit_resample(X_tfidf, y)\n"
      ],
      "metadata": {
        "colab": {
          "base_uri": "https://localhost:8080/"
        },
        "id": "umpjbieQ9O5k",
        "outputId": "3074e840-5e88-47b1-a154-1d396077c158"
      },
      "execution_count": 50,
      "outputs": [
        {
          "output_type": "stream",
          "name": "stdout",
          "text": [
            "Distribusi label setelah SMOTE: Counter({1: 500, 0: 500})\n"
          ]
        }
      ]
    },
    {
      "cell_type": "code",
      "metadata": {
        "id": "f243e3d9"
      },
      "source": [
        "from transformers import BertTokenizer\n",
        "\n",
        "tokenizer = BertTokenizer.from_pretrained('indobenchmark/indobert-base-p1')\n",
        "\n",
        "# Tokenisasi teks\n",
        "tokenized = tokenizer(\n",
        "    list(df['teks']),\n",
        "    padding='max_length',\n",
        "    truncation=True,\n",
        "    max_length=512,\n",
        "    return_tensors='pt'\n",
        ")\n",
        "\n",
        "# Hasil embedding dalam bentuk input_ids dan attention_mask\n",
        "X_train_ids = train_encodings['input_ids']\n",
        "X_train_mask = train_encodings['attention_mask']\n",
        "X_test_ids = test_encodings['input_ids']\n",
        "X_test_mask = test_encodings['attention_mask']"
      ],
      "execution_count": 51,
      "outputs": []
    }
  ],
  "metadata": {
    "accelerator": "GPU",
    "colab": {
      "gpuType": "T4",
      "provenance": []
    },
    "kernelspec": {
      "display_name": "Python 3",
      "name": "python3"
    },
    "language_info": {
      "name": "python"
    },
    "widgets": {
      "application/vnd.jupyter.widget-state+json": {
        "e32b04c88ca540919fe51f1030dddde4": {
          "model_module": "@jupyter-widgets/controls",
          "model_name": "HBoxModel",
          "model_module_version": "1.5.0",
          "state": {
            "_dom_classes": [],
            "_model_module": "@jupyter-widgets/controls",
            "_model_module_version": "1.5.0",
            "_model_name": "HBoxModel",
            "_view_count": null,
            "_view_module": "@jupyter-widgets/controls",
            "_view_module_version": "1.5.0",
            "_view_name": "HBoxView",
            "box_style": "",
            "children": [
              "IPY_MODEL_98232e714ce744b885108b05c9ac8591",
              "IPY_MODEL_346763b53cc049f285854108067e0657",
              "IPY_MODEL_7996a66bddf94987b36d8eac3099ba8a"
            ],
            "layout": "IPY_MODEL_0934d4a1e08c45d0823db7f18455660c"
          }
        },
        "98232e714ce744b885108b05c9ac8591": {
          "model_module": "@jupyter-widgets/controls",
          "model_name": "HTMLModel",
          "model_module_version": "1.5.0",
          "state": {
            "_dom_classes": [],
            "_model_module": "@jupyter-widgets/controls",
            "_model_module_version": "1.5.0",
            "_model_name": "HTMLModel",
            "_view_count": null,
            "_view_module": "@jupyter-widgets/controls",
            "_view_module_version": "1.5.0",
            "_view_name": "HTMLView",
            "description": "",
            "description_tooltip": null,
            "layout": "IPY_MODEL_3d264ea834de4cae89b76c9d2aded99d",
            "placeholder": "​",
            "style": "IPY_MODEL_82c0c2be00204b48a2c2f7faddd8a148",
            "value": "pytorch_model.bin: 100%"
          }
        },
        "346763b53cc049f285854108067e0657": {
          "model_module": "@jupyter-widgets/controls",
          "model_name": "FloatProgressModel",
          "model_module_version": "1.5.0",
          "state": {
            "_dom_classes": [],
            "_model_module": "@jupyter-widgets/controls",
            "_model_module_version": "1.5.0",
            "_model_name": "FloatProgressModel",
            "_view_count": null,
            "_view_module": "@jupyter-widgets/controls",
            "_view_module_version": "1.5.0",
            "_view_name": "ProgressView",
            "bar_style": "success",
            "description": "",
            "description_tooltip": null,
            "layout": "IPY_MODEL_e81637949a6e4d23adf4fee1dc3bbf35",
            "max": 497810400,
            "min": 0,
            "orientation": "horizontal",
            "style": "IPY_MODEL_df20b512aaeb4e3490330e4e0a2ecc88",
            "value": 497810400
          }
        },
        "7996a66bddf94987b36d8eac3099ba8a": {
          "model_module": "@jupyter-widgets/controls",
          "model_name": "HTMLModel",
          "model_module_version": "1.5.0",
          "state": {
            "_dom_classes": [],
            "_model_module": "@jupyter-widgets/controls",
            "_model_module_version": "1.5.0",
            "_model_name": "HTMLModel",
            "_view_count": null,
            "_view_module": "@jupyter-widgets/controls",
            "_view_module_version": "1.5.0",
            "_view_name": "HTMLView",
            "description": "",
            "description_tooltip": null,
            "layout": "IPY_MODEL_26b74d229a924c019b345d2148da3c45",
            "placeholder": "​",
            "style": "IPY_MODEL_3fcedb56e97847bca779cc0fb152ab12",
            "value": " 498M/498M [00:02&lt;00:00, 214MB/s]"
          }
        },
        "0934d4a1e08c45d0823db7f18455660c": {
          "model_module": "@jupyter-widgets/base",
          "model_name": "LayoutModel",
          "model_module_version": "1.2.0",
          "state": {
            "_model_module": "@jupyter-widgets/base",
            "_model_module_version": "1.2.0",
            "_model_name": "LayoutModel",
            "_view_count": null,
            "_view_module": "@jupyter-widgets/base",
            "_view_module_version": "1.2.0",
            "_view_name": "LayoutView",
            "align_content": null,
            "align_items": null,
            "align_self": null,
            "border": null,
            "bottom": null,
            "display": null,
            "flex": null,
            "flex_flow": null,
            "grid_area": null,
            "grid_auto_columns": null,
            "grid_auto_flow": null,
            "grid_auto_rows": null,
            "grid_column": null,
            "grid_gap": null,
            "grid_row": null,
            "grid_template_areas": null,
            "grid_template_columns": null,
            "grid_template_rows": null,
            "height": null,
            "justify_content": null,
            "justify_items": null,
            "left": null,
            "margin": null,
            "max_height": null,
            "max_width": null,
            "min_height": null,
            "min_width": null,
            "object_fit": null,
            "object_position": null,
            "order": null,
            "overflow": null,
            "overflow_x": null,
            "overflow_y": null,
            "padding": null,
            "right": null,
            "top": null,
            "visibility": null,
            "width": null
          }
        },
        "3d264ea834de4cae89b76c9d2aded99d": {
          "model_module": "@jupyter-widgets/base",
          "model_name": "LayoutModel",
          "model_module_version": "1.2.0",
          "state": {
            "_model_module": "@jupyter-widgets/base",
            "_model_module_version": "1.2.0",
            "_model_name": "LayoutModel",
            "_view_count": null,
            "_view_module": "@jupyter-widgets/base",
            "_view_module_version": "1.2.0",
            "_view_name": "LayoutView",
            "align_content": null,
            "align_items": null,
            "align_self": null,
            "border": null,
            "bottom": null,
            "display": null,
            "flex": null,
            "flex_flow": null,
            "grid_area": null,
            "grid_auto_columns": null,
            "grid_auto_flow": null,
            "grid_auto_rows": null,
            "grid_column": null,
            "grid_gap": null,
            "grid_row": null,
            "grid_template_areas": null,
            "grid_template_columns": null,
            "grid_template_rows": null,
            "height": null,
            "justify_content": null,
            "justify_items": null,
            "left": null,
            "margin": null,
            "max_height": null,
            "max_width": null,
            "min_height": null,
            "min_width": null,
            "object_fit": null,
            "object_position": null,
            "order": null,
            "overflow": null,
            "overflow_x": null,
            "overflow_y": null,
            "padding": null,
            "right": null,
            "top": null,
            "visibility": null,
            "width": null
          }
        },
        "82c0c2be00204b48a2c2f7faddd8a148": {
          "model_module": "@jupyter-widgets/controls",
          "model_name": "DescriptionStyleModel",
          "model_module_version": "1.5.0",
          "state": {
            "_model_module": "@jupyter-widgets/controls",
            "_model_module_version": "1.5.0",
            "_model_name": "DescriptionStyleModel",
            "_view_count": null,
            "_view_module": "@jupyter-widgets/base",
            "_view_module_version": "1.2.0",
            "_view_name": "StyleView",
            "description_width": ""
          }
        },
        "e81637949a6e4d23adf4fee1dc3bbf35": {
          "model_module": "@jupyter-widgets/base",
          "model_name": "LayoutModel",
          "model_module_version": "1.2.0",
          "state": {
            "_model_module": "@jupyter-widgets/base",
            "_model_module_version": "1.2.0",
            "_model_name": "LayoutModel",
            "_view_count": null,
            "_view_module": "@jupyter-widgets/base",
            "_view_module_version": "1.2.0",
            "_view_name": "LayoutView",
            "align_content": null,
            "align_items": null,
            "align_self": null,
            "border": null,
            "bottom": null,
            "display": null,
            "flex": null,
            "flex_flow": null,
            "grid_area": null,
            "grid_auto_columns": null,
            "grid_auto_flow": null,
            "grid_auto_rows": null,
            "grid_column": null,
            "grid_gap": null,
            "grid_row": null,
            "grid_template_areas": null,
            "grid_template_columns": null,
            "grid_template_rows": null,
            "height": null,
            "justify_content": null,
            "justify_items": null,
            "left": null,
            "margin": null,
            "max_height": null,
            "max_width": null,
            "min_height": null,
            "min_width": null,
            "object_fit": null,
            "object_position": null,
            "order": null,
            "overflow": null,
            "overflow_x": null,
            "overflow_y": null,
            "padding": null,
            "right": null,
            "top": null,
            "visibility": null,
            "width": null
          }
        },
        "df20b512aaeb4e3490330e4e0a2ecc88": {
          "model_module": "@jupyter-widgets/controls",
          "model_name": "ProgressStyleModel",
          "model_module_version": "1.5.0",
          "state": {
            "_model_module": "@jupyter-widgets/controls",
            "_model_module_version": "1.5.0",
            "_model_name": "ProgressStyleModel",
            "_view_count": null,
            "_view_module": "@jupyter-widgets/base",
            "_view_module_version": "1.2.0",
            "_view_name": "StyleView",
            "bar_color": null,
            "description_width": ""
          }
        },
        "26b74d229a924c019b345d2148da3c45": {
          "model_module": "@jupyter-widgets/base",
          "model_name": "LayoutModel",
          "model_module_version": "1.2.0",
          "state": {
            "_model_module": "@jupyter-widgets/base",
            "_model_module_version": "1.2.0",
            "_model_name": "LayoutModel",
            "_view_count": null,
            "_view_module": "@jupyter-widgets/base",
            "_view_module_version": "1.2.0",
            "_view_name": "LayoutView",
            "align_content": null,
            "align_items": null,
            "align_self": null,
            "border": null,
            "bottom": null,
            "display": null,
            "flex": null,
            "flex_flow": null,
            "grid_area": null,
            "grid_auto_columns": null,
            "grid_auto_flow": null,
            "grid_auto_rows": null,
            "grid_column": null,
            "grid_gap": null,
            "grid_row": null,
            "grid_template_areas": null,
            "grid_template_columns": null,
            "grid_template_rows": null,
            "height": null,
            "justify_content": null,
            "justify_items": null,
            "left": null,
            "margin": null,
            "max_height": null,
            "max_width": null,
            "min_height": null,
            "min_width": null,
            "object_fit": null,
            "object_position": null,
            "order": null,
            "overflow": null,
            "overflow_x": null,
            "overflow_y": null,
            "padding": null,
            "right": null,
            "top": null,
            "visibility": null,
            "width": null
          }
        },
        "3fcedb56e97847bca779cc0fb152ab12": {
          "model_module": "@jupyter-widgets/controls",
          "model_name": "DescriptionStyleModel",
          "model_module_version": "1.5.0",
          "state": {
            "_model_module": "@jupyter-widgets/controls",
            "_model_module_version": "1.5.0",
            "_model_name": "DescriptionStyleModel",
            "_view_count": null,
            "_view_module": "@jupyter-widgets/base",
            "_view_module_version": "1.2.0",
            "_view_name": "StyleView",
            "description_width": ""
          }
        },
        "915199ed48ae4ea58f81c7967fd763a1": {
          "model_module": "@jupyter-widgets/controls",
          "model_name": "HBoxModel",
          "model_module_version": "1.5.0",
          "state": {
            "_dom_classes": [],
            "_model_module": "@jupyter-widgets/controls",
            "_model_module_version": "1.5.0",
            "_model_name": "HBoxModel",
            "_view_count": null,
            "_view_module": "@jupyter-widgets/controls",
            "_view_module_version": "1.5.0",
            "_view_name": "HBoxView",
            "box_style": "",
            "children": [
              "IPY_MODEL_b48f46b21a5d48908f4aa4fb4dab93fb",
              "IPY_MODEL_6ffb78c9ab5d45f6bb71c38d42f9c319",
              "IPY_MODEL_5239b9927fe0486eaf6051764e162b4b"
            ],
            "layout": "IPY_MODEL_596320acaf1a487a93ea1528ce3f1455"
          }
        },
        "b48f46b21a5d48908f4aa4fb4dab93fb": {
          "model_module": "@jupyter-widgets/controls",
          "model_name": "HTMLModel",
          "model_module_version": "1.5.0",
          "state": {
            "_dom_classes": [],
            "_model_module": "@jupyter-widgets/controls",
            "_model_module_version": "1.5.0",
            "_model_name": "HTMLModel",
            "_view_count": null,
            "_view_module": "@jupyter-widgets/controls",
            "_view_module_version": "1.5.0",
            "_view_name": "HTMLView",
            "description": "",
            "description_tooltip": null,
            "layout": "IPY_MODEL_e2afad2829154e809ecbfdb009efc394",
            "placeholder": "​",
            "style": "IPY_MODEL_0ed1c3d15e424728840c09be18dbf2c0",
            "value": "model.safetensors: 100%"
          }
        },
        "6ffb78c9ab5d45f6bb71c38d42f9c319": {
          "model_module": "@jupyter-widgets/controls",
          "model_name": "FloatProgressModel",
          "model_module_version": "1.5.0",
          "state": {
            "_dom_classes": [],
            "_model_module": "@jupyter-widgets/controls",
            "_model_module_version": "1.5.0",
            "_model_name": "FloatProgressModel",
            "_view_count": null,
            "_view_module": "@jupyter-widgets/controls",
            "_view_module_version": "1.5.0",
            "_view_name": "ProgressView",
            "bar_style": "success",
            "description": "",
            "description_tooltip": null,
            "layout": "IPY_MODEL_91f8fe2eec094cda9c6224bd18d6bbd8",
            "max": 497787752,
            "min": 0,
            "orientation": "horizontal",
            "style": "IPY_MODEL_e8c1839e8256479a8a3e3c8da73f4727",
            "value": 497787752
          }
        },
        "5239b9927fe0486eaf6051764e162b4b": {
          "model_module": "@jupyter-widgets/controls",
          "model_name": "HTMLModel",
          "model_module_version": "1.5.0",
          "state": {
            "_dom_classes": [],
            "_model_module": "@jupyter-widgets/controls",
            "_model_module_version": "1.5.0",
            "_model_name": "HTMLModel",
            "_view_count": null,
            "_view_module": "@jupyter-widgets/controls",
            "_view_module_version": "1.5.0",
            "_view_name": "HTMLView",
            "description": "",
            "description_tooltip": null,
            "layout": "IPY_MODEL_3ab4f999cc08483ea3df6a79841dcb1c",
            "placeholder": "​",
            "style": "IPY_MODEL_d9b44e2219344a40a5cee6ce1c297f79",
            "value": " 498M/498M [00:03&lt;00:00, 167MB/s]"
          }
        },
        "596320acaf1a487a93ea1528ce3f1455": {
          "model_module": "@jupyter-widgets/base",
          "model_name": "LayoutModel",
          "model_module_version": "1.2.0",
          "state": {
            "_model_module": "@jupyter-widgets/base",
            "_model_module_version": "1.2.0",
            "_model_name": "LayoutModel",
            "_view_count": null,
            "_view_module": "@jupyter-widgets/base",
            "_view_module_version": "1.2.0",
            "_view_name": "LayoutView",
            "align_content": null,
            "align_items": null,
            "align_self": null,
            "border": null,
            "bottom": null,
            "display": null,
            "flex": null,
            "flex_flow": null,
            "grid_area": null,
            "grid_auto_columns": null,
            "grid_auto_flow": null,
            "grid_auto_rows": null,
            "grid_column": null,
            "grid_gap": null,
            "grid_row": null,
            "grid_template_areas": null,
            "grid_template_columns": null,
            "grid_template_rows": null,
            "height": null,
            "justify_content": null,
            "justify_items": null,
            "left": null,
            "margin": null,
            "max_height": null,
            "max_width": null,
            "min_height": null,
            "min_width": null,
            "object_fit": null,
            "object_position": null,
            "order": null,
            "overflow": null,
            "overflow_x": null,
            "overflow_y": null,
            "padding": null,
            "right": null,
            "top": null,
            "visibility": null,
            "width": null
          }
        },
        "e2afad2829154e809ecbfdb009efc394": {
          "model_module": "@jupyter-widgets/base",
          "model_name": "LayoutModel",
          "model_module_version": "1.2.0",
          "state": {
            "_model_module": "@jupyter-widgets/base",
            "_model_module_version": "1.2.0",
            "_model_name": "LayoutModel",
            "_view_count": null,
            "_view_module": "@jupyter-widgets/base",
            "_view_module_version": "1.2.0",
            "_view_name": "LayoutView",
            "align_content": null,
            "align_items": null,
            "align_self": null,
            "border": null,
            "bottom": null,
            "display": null,
            "flex": null,
            "flex_flow": null,
            "grid_area": null,
            "grid_auto_columns": null,
            "grid_auto_flow": null,
            "grid_auto_rows": null,
            "grid_column": null,
            "grid_gap": null,
            "grid_row": null,
            "grid_template_areas": null,
            "grid_template_columns": null,
            "grid_template_rows": null,
            "height": null,
            "justify_content": null,
            "justify_items": null,
            "left": null,
            "margin": null,
            "max_height": null,
            "max_width": null,
            "min_height": null,
            "min_width": null,
            "object_fit": null,
            "object_position": null,
            "order": null,
            "overflow": null,
            "overflow_x": null,
            "overflow_y": null,
            "padding": null,
            "right": null,
            "top": null,
            "visibility": null,
            "width": null
          }
        },
        "0ed1c3d15e424728840c09be18dbf2c0": {
          "model_module": "@jupyter-widgets/controls",
          "model_name": "DescriptionStyleModel",
          "model_module_version": "1.5.0",
          "state": {
            "_model_module": "@jupyter-widgets/controls",
            "_model_module_version": "1.5.0",
            "_model_name": "DescriptionStyleModel",
            "_view_count": null,
            "_view_module": "@jupyter-widgets/base",
            "_view_module_version": "1.2.0",
            "_view_name": "StyleView",
            "description_width": ""
          }
        },
        "91f8fe2eec094cda9c6224bd18d6bbd8": {
          "model_module": "@jupyter-widgets/base",
          "model_name": "LayoutModel",
          "model_module_version": "1.2.0",
          "state": {
            "_model_module": "@jupyter-widgets/base",
            "_model_module_version": "1.2.0",
            "_model_name": "LayoutModel",
            "_view_count": null,
            "_view_module": "@jupyter-widgets/base",
            "_view_module_version": "1.2.0",
            "_view_name": "LayoutView",
            "align_content": null,
            "align_items": null,
            "align_self": null,
            "border": null,
            "bottom": null,
            "display": null,
            "flex": null,
            "flex_flow": null,
            "grid_area": null,
            "grid_auto_columns": null,
            "grid_auto_flow": null,
            "grid_auto_rows": null,
            "grid_column": null,
            "grid_gap": null,
            "grid_row": null,
            "grid_template_areas": null,
            "grid_template_columns": null,
            "grid_template_rows": null,
            "height": null,
            "justify_content": null,
            "justify_items": null,
            "left": null,
            "margin": null,
            "max_height": null,
            "max_width": null,
            "min_height": null,
            "min_width": null,
            "object_fit": null,
            "object_position": null,
            "order": null,
            "overflow": null,
            "overflow_x": null,
            "overflow_y": null,
            "padding": null,
            "right": null,
            "top": null,
            "visibility": null,
            "width": null
          }
        },
        "e8c1839e8256479a8a3e3c8da73f4727": {
          "model_module": "@jupyter-widgets/controls",
          "model_name": "ProgressStyleModel",
          "model_module_version": "1.5.0",
          "state": {
            "_model_module": "@jupyter-widgets/controls",
            "_model_module_version": "1.5.0",
            "_model_name": "ProgressStyleModel",
            "_view_count": null,
            "_view_module": "@jupyter-widgets/base",
            "_view_module_version": "1.2.0",
            "_view_name": "StyleView",
            "bar_color": null,
            "description_width": ""
          }
        },
        "3ab4f999cc08483ea3df6a79841dcb1c": {
          "model_module": "@jupyter-widgets/base",
          "model_name": "LayoutModel",
          "model_module_version": "1.2.0",
          "state": {
            "_model_module": "@jupyter-widgets/base",
            "_model_module_version": "1.2.0",
            "_model_name": "LayoutModel",
            "_view_count": null,
            "_view_module": "@jupyter-widgets/base",
            "_view_module_version": "1.2.0",
            "_view_name": "LayoutView",
            "align_content": null,
            "align_items": null,
            "align_self": null,
            "border": null,
            "bottom": null,
            "display": null,
            "flex": null,
            "flex_flow": null,
            "grid_area": null,
            "grid_auto_columns": null,
            "grid_auto_flow": null,
            "grid_auto_rows": null,
            "grid_column": null,
            "grid_gap": null,
            "grid_row": null,
            "grid_template_areas": null,
            "grid_template_columns": null,
            "grid_template_rows": null,
            "height": null,
            "justify_content": null,
            "justify_items": null,
            "left": null,
            "margin": null,
            "max_height": null,
            "max_width": null,
            "min_height": null,
            "min_width": null,
            "object_fit": null,
            "object_position": null,
            "order": null,
            "overflow": null,
            "overflow_x": null,
            "overflow_y": null,
            "padding": null,
            "right": null,
            "top": null,
            "visibility": null,
            "width": null
          }
        },
        "d9b44e2219344a40a5cee6ce1c297f79": {
          "model_module": "@jupyter-widgets/controls",
          "model_name": "DescriptionStyleModel",
          "model_module_version": "1.5.0",
          "state": {
            "_model_module": "@jupyter-widgets/controls",
            "_model_module_version": "1.5.0",
            "_model_name": "DescriptionStyleModel",
            "_view_count": null,
            "_view_module": "@jupyter-widgets/base",
            "_view_module_version": "1.2.0",
            "_view_name": "StyleView",
            "description_width": ""
          }
        }
      }
    }
  },
  "nbformat": 4,
  "nbformat_minor": 0
}